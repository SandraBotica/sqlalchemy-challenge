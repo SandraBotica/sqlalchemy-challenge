{
 "cells": [
  {
   "cell_type": "code",
   "execution_count": 41,
   "metadata": {},
   "outputs": [],
   "source": [
    "import datetime as dt\n",
    "import numpy as np\n",
    "import pandas as pd\n",
    "\n",
    "import sqlalchemy\n",
    "from sqlalchemy.ext.automap import automap_base\n",
    "from sqlalchemy.orm import Session\n",
    "from sqlalchemy import create_engine, func\n",
    "\n",
    "from flask import Flask, jsonify"
   ]
  },
  {
   "cell_type": "code",
   "execution_count": 42,
   "metadata": {},
   "outputs": [],
   "source": [
    "engine = create_engine(\"sqlite:///hawaii.sqlite\")"
   ]
  },
  {
   "cell_type": "code",
   "execution_count": 43,
   "metadata": {},
   "outputs": [],
   "source": [
    "Base = automap_base()\n",
    "# reflect the tables\n",
    "Base.prepare(autoload_with=engine)"
   ]
  },
  {
   "cell_type": "code",
   "execution_count": 44,
   "metadata": {},
   "outputs": [],
   "source": [
    "Measurement = Base.classes.measurement\n",
    "Station = Base.classes.station"
   ]
  },
  {
   "cell_type": "code",
   "execution_count": 45,
   "metadata": {},
   "outputs": [],
   "source": [
    "app = Flask(__name__)"
   ]
  },
  {
   "cell_type": "code",
   "execution_count": 46,
   "metadata": {},
   "outputs": [],
   "source": [
    "@app.route(\"/\")\n",
    "def welcome():\n",
    "    return (\n",
    "        f\"Welcome to the SurfsUp in Hawaii API!<br/>\"\n",
    "        f\"Available Routes:<br/>\"\n",
    "        f\"/api/v1.0/precipitation<br/>\"\n",
    "        f\"/api/v1.0/stations<br/>\"\n",
    "        f\"/api/v1.0/tobs<br/>\"\n",
    "        f\"/api/v1.0/<start>\"\n",
    "        f\"Enter start date\"\n",
    "        f\"(start date must be in YYYY-MM-DD format)<br/>\"\n",
    "        f\"/api/v1.0/<start>/<end>\"\n",
    "    )"
   ]
  },
  {
   "cell_type": "code",
   "execution_count": 58,
   "metadata": {},
   "outputs": [],
   "source": [
    "# @app.route(\"/api/v1.0/precipitation\")\n",
    "# def precipitation():\n",
    " \n",
    "session = Session(engine)\n",
    "    \n",
    "precipitations = session.query(Measurement.date,Measurement.prcp).all()\n",
    "\n",
    "    # session.close()\n",
    "\n",
    "    # results = list(np.ravel(precipitation))\n",
    "\n",
    "precipitation_list = []\n",
    "for date, prcp in precipitations:\n",
    "    precipitation_dict = {date:prcp}\n",
    "    # precipitation_dict[\"Date\"] = date\n",
    "    # precipitation_dict[\"Precipitation\"] = prcp\n",
    "    precipitation_list.append(precipitation_dict)\n",
    "    # return jsonify(precipitation_list)\n",
    "    # return jsonify([x for x in precipitations])\n",
    "# print(precipitation_list)\n"
   ]
  },
  {
   "cell_type": "code",
   "execution_count": 48,
   "metadata": {},
   "outputs": [
    {
     "name": "stdout",
     "output_type": "stream",
     "text": [
      "[{'USC00519397': 'WAIKIKI 717.2, HI US'}, {'USC00513117': 'KANEOHE 838.1, HI US'}, {'USC00514830': 'KUALOA RANCH HEADQUARTERS 886.9, HI US'}, {'USC00517948': 'PEARL CITY, HI US'}, {'USC00518838': 'UPPER WAHIAWA 874.3, HI US'}, {'USC00519523': 'WAIMANALO EXPERIMENTAL FARM, HI US'}, {'USC00519281': 'WAIHEE 837.5, HI US'}, {'USC00511918': 'HONOLULU OBSERVATORY 702.2, HI US'}, {'USC00516128': 'MANOA LYON ARBO 785.2, HI US'}]\n"
     ]
    }
   ],
   "source": [
    "# @app.route(\"/api/v1.0/station\")\n",
    "# def stations():\n",
    "   \n",
    "session = Session(engine)\n",
    "    \n",
    "stations_query = session.query(Station.station,Station.name).all()\n",
    "\n",
    "# session.close()\n",
    "\n",
    "# results = list(np.ravel(stations_query))\n",
    "    \n",
    "station_name = []\n",
    "for station, name in stations_query:\n",
    "    station_dict = {station:name}\n",
    "    # station_dict[\"Station\"] = station\n",
    "    # station_dict[\"Name\"] = name\n",
    "    station_name.append(station_dict)\n",
    "    # return jsonify(station_name)\n",
    "    # return jsonify(results)\n",
    "print(station_name)"
   ]
  },
  {
   "cell_type": "code",
   "execution_count": 61,
   "metadata": {},
   "outputs": [
    {
     "name": "stdout",
     "output_type": "stream",
     "text": [
      "[(26.7,), (26.1,), (27.2,), (26.1,), (25.6,), (25.0,), (25.0,), (26.7,), (26.7,), (23.9,), (22.8,), (25.6,), (25.0,), (25.6,), (26.7,), (26.7,), (25.6,), (25.6,), (25.6,), (22.8,), (23.3,), (26.7,), (26.1,), (25.0,), (26.7,), (24.4,), (26.1,), (23.9,), (26.1,), (25.6,), (26.1,), (25.6,), (25.6,), (24.4,), (23.3,), (25.0,), (25.6,), (26.1,), (26.1,), (25.0,), (26.7,), (25.6,), (25.6,), (25.6,), (25.0,), (26.1,), (26.1,), (26.1,), (26.1,), (23.9,), (24.4,), (22.8,), (22.2,), (21.7,), (25.0,), (26.1,), (25.6,), (26.1,), (25.0,), (26.1,), (25.0,), (25.6,), (25.6,), (25.6,), (25.6,), (25.0,), (23.3,), (23.9,), (24.4,), (22.8,), (24.4,), (23.3,), (25.0,), (24.4,), (24.4,), (23.3,), (23.9,), (23.9,), (23.9,), (23.9,), (21.7,), (17.2,), (21.1,), (20.0,), (19.4,), (25.0,), (23.3,), (25.0,), (24.4,), (24.4,), (23.9,), (24.4,), (23.9,), (22.8,), (23.9,), (22.8,), (23.9,), (23.3,), (23.9,), (23.3,), (23.9,), (22.8,), (23.9,), (22.8,), (22.8,), (23.3,), (21.1,), (22.2,), (21.1,), (19.4,), (19.4,), (20.6,), (21.1,), (20.0,), (20.6,), (20.6,), (18.9,), (18.3,), (20.0,), (16.7,), (23.9,), (21.1,), (20.6,), (24.4,), (24.4,), (23.3,), (22.8,), (21.7,), (23.3,), (23.3,), (22.2,), (21.7,), (22.2,), (23.3,), (20.6,), (19.4,), (22.2,), (21.1,), (17.8,), (17.2,), (17.2,), (16.7,), (21.1,), (21.1,), (16.7,), (16.7,), (17.2,), (18.3,), (20.6,), (25.0,), (21.1,), (23.3,), (20.6,), (22.2,), (21.7,), (20.6,), (21.7,), (21.7,), (22.2,), (22.2,), (20.6,), (21.1,), (18.9,), (18.3,), (20.6,), (20.0,), (20.0,), (20.0,), (15.0,), (15.6,), (21.1,), (22.8,), (23.9,), (17.8,), (15.0,), (15.0,), (16.7,), (20.0,), (21.1,), (22.8,), (26.1,), (23.9,), (18.3,), (21.1,), (23.3,), (21.1,), (21.1,), (21.7,), (21.7,), (21.7,), (20.6,), (16.1,), (19.4,), (18.3,), (22.2,), (21.7,), (22.8,), (22.2,), (25.0,), (22.8,), (19.4,), (16.7,), (17.8,), (19.4,), (18.9,), (27.2,), (20.6,), (18.9,), (19.4,), (20.6,), (18.9,), (20.0,), (18.3,), (23.3,), (20.6,), (22.2,), (22.8,), (22.2,), (21.7,), (24.4,), (25.0,), (24.4,), (23.3,), (20.0,), (22.8,), (21.7,), (23.3,), (23.9,), (21.1,), (19.4,), (21.7,), (19.4,), (23.3,), (25.0,), (25.6,), (19.4,), (21.1,), (20.6,), (20.6,), (23.3,), (25.6,), (21.7,), (19.4,), (20.0,), (19.4,), (24.4,), (20.6,), (22.2,), (24.4,), (20.0,), (22.2,), (23.3,), (21.1,), (19.4,), (22.2,), (15.6,), (18.3,), (23.9,), (21.1,), (23.9,), (21.1,), (26.1,), (23.9,), (21.1,), (19.4,), (23.3,), (21.1,), (23.9,), (24.4,), (25.0,), (23.3,), (23.3,), (23.3,), (20.6,), (20.0,), (24.4,), (23.3,), (21.7,), (21.7,), (23.3,), (23.3,), (23.3,), (23.3,), (26.7,), (23.3,), (22.2,), (23.9,), (26.7,), (24.4,), (24.4,), (25.0,), (23.9,), (23.9,), (23.9,), (23.9,), (22.2,), (23.3,), (23.3,), (23.3,), (24.4,), (23.3,), (23.9,), (22.8,), (26.1,), (23.9,), (22.2,), (22.2,), (23.3,), (22.2,), (22.2,), (25.0,), (21.7,), (22.8,), (24.4,), (25.0,), (24.4,), (24.4,), (26.1,), (27.2,), (24.4,), (25.6,), (25.0,), (23.3,), (23.9,), (25.6,), (25.6,), (20.6,), (22.2,), (23.3,), (23.3,), (24.4,), (26.7,), (26.7,), (24.4,), (24.4,), (24.4,), (25.0,), (25.0,), (25.0,), (27.8,), (23.9,), (25.0,), (23.9,), (24.4,), (27.2,), (27.8,), (27.2,), (24.4,), (25.0,), (27.8,), (28.3,), (25.0,), (25.0,), (25.0,), (24.4,), (24.4,), (26.1,)]\n"
     ]
    }
   ],
   "source": [
    "# @app.route(\"/api/v1.0/tobs\")\n",
    "# def temperature():\n",
    "\n",
    "query_date_12_months = dt.date(2016, 8, 17) \n",
    "    \n",
    "session = Session(engine)\n",
    "    \n",
    "temperatures = session.query(Measurement.tobs).\\\n",
    "    filter(Measurement.station == 'USC00519281').\\\n",
    "    order_by(Measurement.date.asc()).\\\n",
    "    filter(func.strftime(Measurement.date) > query_date_12_months).all()\n",
    "    \n",
    "    # session.close()\n",
    "    \n",
    "    # results = list(np.ravel(temperatures))\n",
    "\n",
    "temperature_list = []\n",
    "for tobs in temperatures:\n",
    "    temperature_results = tobs\n",
    "    # temperature_dict = {}\n",
    "    # temperature_dict[\"Temperature\"] = tobs\n",
    "    temperature_list.append(temperature_results)\n",
    "    # return jsonify(temperature)\n",
    "    \n",
    "    # return jsonify(results)\n",
    "print(temperature_list)\n"
   ]
  },
  {
   "cell_type": "code",
   "execution_count": 60,
   "metadata": {},
   "outputs": [
    {
     "data": {
      "text/plain": [
       "357"
      ]
     },
     "execution_count": 60,
     "metadata": {},
     "output_type": "execute_result"
    }
   ],
   "source": [
    "len(temperature_list)"
   ]
  },
  {
   "cell_type": "code",
   "execution_count": 73,
   "metadata": {},
   "outputs": [
    {
     "ename": "TypeError",
     "evalue": "'min' object is not callable",
     "output_type": "error",
     "traceback": [
      "\u001b[0;31m---------------------------------------------------------------------------\u001b[0m",
      "\u001b[0;31mTypeError\u001b[0m                                 Traceback (most recent call last)",
      "\u001b[0;32m/var/folders/1q/y8jwtynn6qzf43tk_s6zpzlw0000gn/T/ipykernel_19038/3051887900.py\u001b[0m in \u001b[0;36m<module>\u001b[0;34m\u001b[0m\n\u001b[0;32m----> 1\u001b[0;31m \u001b[0mmin\u001b[0m \u001b[0;34m=\u001b[0m \u001b[0msession\u001b[0m\u001b[0;34m.\u001b[0m\u001b[0mquery\u001b[0m\u001b[0;34m(\u001b[0m\u001b[0mfunc\u001b[0m\u001b[0;34m.\u001b[0m\u001b[0mmin\u001b[0m\u001b[0;34m(\u001b[0m\u001b[0mtemperature_list\u001b[0m\u001b[0;34m)\u001b[0m\u001b[0;34m)\u001b[0m\u001b[0;34m\u001b[0m\u001b[0;34m\u001b[0m\u001b[0m\n\u001b[0m\u001b[1;32m      2\u001b[0m \u001b[0mprint\u001b[0m\u001b[0;34m(\u001b[0m\u001b[0mmin\u001b[0m\u001b[0;34m)\u001b[0m\u001b[0;34m\u001b[0m\u001b[0;34m\u001b[0m\u001b[0m\n",
      "\u001b[0;31mTypeError\u001b[0m: 'min' object is not callable"
     ]
    }
   ],
   "source": [
    "min = session.query(func.min(temperature_list))\n",
    "print(min)"
   ]
  },
  {
   "cell_type": "code",
   "execution_count": null,
   "metadata": {},
   "outputs": [],
   "source": []
  },
  {
   "cell_type": "code",
   "execution_count": 64,
   "metadata": {},
   "outputs": [
    {
     "name": "stdout",
     "output_type": "stream",
     "text": [
      "[[14.4, 23.69537037037037, 30.6]]\n"
     ]
    }
   ],
   "source": [
    "# @app.route(\"/api/v1.0/<start><br/>\")\n",
    "# def starting_date(start):\n",
    "\n",
    "# \"\"\"Fetch the temperatures from start date matches to last date of dataset \n",
    "#     as a path variable supplied by the user, or a 404 if not.\"\"\"\n",
    "     \n",
    "session = Session(engine)\n",
    "    \n",
    "start = (\"2016-08-17\")\n",
    "    \n",
    "starting_date_list = session.query(func.min(Measurement.tobs),func.avg(Measurement.tobs),func.max(Measurement.tobs)).\\\n",
    "    filter(Measurement.date >= start).all()\n",
    "    \n",
    "session.close()\n",
    "    \n",
    "date_list= []\n",
    "for min, max, avg in starting_date_list:\n",
    "    temp_list = [min,max,avg]\n",
    "    date_list.append(temp_list)\n",
    "\n",
    "    # return jsonify({\"error\": f\"Start date {start} not found.\"}), 404\n",
    "   \n",
    "    # results = list(np.ravel(starting_date_list))\n",
    "    \n",
    "    # return jsonify(date_list)\n",
    "    print(date_list)"
   ]
  },
  {
   "cell_type": "code",
   "execution_count": null,
   "metadata": {},
   "outputs": [],
   "source": [
    "# session.close()"
   ]
  }
 ],
 "metadata": {
  "kernelspec": {
   "display_name": "PythonData",
   "language": "python",
   "name": "python3"
  },
  "language_info": {
   "codemirror_mode": {
    "name": "ipython",
    "version": 3
   },
   "file_extension": ".py",
   "mimetype": "text/x-python",
   "name": "python",
   "nbconvert_exporter": "python",
   "pygments_lexer": "ipython3",
   "version": "3.7.7"
  },
  "orig_nbformat": 4,
  "vscode": {
   "interpreter": {
    "hash": "7db2a412b11edafb391183ba42ce38835c9a015e2a8dbcaea088651dc9739e2d"
   }
  }
 },
 "nbformat": 4,
 "nbformat_minor": 2
}
