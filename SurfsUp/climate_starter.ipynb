{
 "cells": [
  {
   "cell_type": "code",
   "execution_count": 216,
   "metadata": {},
   "outputs": [],
   "source": [
    "%matplotlib inline\n",
    "from matplotlib import style\n",
    "style.use('fivethirtyeight')\n",
    "import matplotlib.pyplot as plt"
   ]
  },
  {
   "cell_type": "code",
   "execution_count": 217,
   "metadata": {},
   "outputs": [],
   "source": [
    "import numpy as np\n",
    "import pandas as pd\n",
    "import datetime as dt"
   ]
  },
  {
   "cell_type": "markdown",
   "metadata": {},
   "source": [
    "# Reflect Tables into SQLAlchemy ORM"
   ]
  },
  {
   "cell_type": "code",
   "execution_count": 218,
   "metadata": {},
   "outputs": [],
   "source": [
    "# Python SQL toolkit and Object Relational Mapper\n",
    "import sqlalchemy\n",
    "from sqlalchemy.ext.automap import automap_base\n",
    "from sqlalchemy.orm import Session\n",
    "from sqlalchemy import create_engine, inspect,func"
   ]
  },
  {
   "cell_type": "code",
   "execution_count": 219,
   "metadata": {},
   "outputs": [],
   "source": [
    "# create engine to hawaii.sqlite\n",
    "engine = create_engine(\"sqlite:///../Resources/hawaii.sqlite\")"
   ]
  },
  {
   "cell_type": "code",
   "execution_count": 220,
   "metadata": {},
   "outputs": [],
   "source": [
    "Base = automap_base()"
   ]
  },
  {
   "cell_type": "code",
   "execution_count": 221,
   "metadata": {},
   "outputs": [],
   "source": [
    "# reflect an existing database into a new model\n",
    "# reflect the tables\n",
    "Base.prepare(autoload_with=engine)"
   ]
  },
  {
   "cell_type": "code",
   "execution_count": 222,
   "metadata": {},
   "outputs": [
    {
     "data": {
      "text/plain": [
       "['measurement', 'station']"
      ]
     },
     "execution_count": 222,
     "metadata": {},
     "output_type": "execute_result"
    }
   ],
   "source": [
    "# View all of the classes that automap found\n",
    "Base.classes.keys()"
   ]
  },
  {
   "cell_type": "code",
   "execution_count": 223,
   "metadata": {},
   "outputs": [],
   "source": [
    "# Save references to each table\n",
    "Measurement = Base.classes.measurement"
   ]
  },
  {
   "cell_type": "code",
   "execution_count": 224,
   "metadata": {},
   "outputs": [],
   "source": [
    "# Save references to each table\n",
    "Station = Base.classes.station"
   ]
  },
  {
   "cell_type": "code",
   "execution_count": 225,
   "metadata": {},
   "outputs": [],
   "source": [
    "# Create our session (link) from Python to the DB\n",
    "session = Session(engine)"
   ]
  },
  {
   "cell_type": "code",
   "execution_count": 226,
   "metadata": {},
   "outputs": [
    {
     "data": {
      "text/plain": [
       "{'_sa_instance_state': <sqlalchemy.orm.state.InstanceState at 0x7fa7f3d98710>,\n",
       " 'prcp': 2.0,\n",
       " 'date': '2010-01-01',\n",
       " 'id': 0,\n",
       " 'tobs': 18.3,\n",
       " 'station': 'USC00519397'}"
      ]
     },
     "execution_count": 226,
     "metadata": {},
     "output_type": "execute_result"
    }
   ],
   "source": [
    "first_row_measurement = session.query(Measurement).first()\n",
    "first_row_measurement.__dict__"
   ]
  },
  {
   "cell_type": "code",
   "execution_count": 227,
   "metadata": {},
   "outputs": [
    {
     "data": {
      "text/plain": [
       "{'_sa_instance_state': <sqlalchemy.orm.state.InstanceState at 0x7fa7c0fa7e10>,\n",
       " 'latitude': 21.2716,\n",
       " 'elevation': 0.914,\n",
       " 'id': 0,\n",
       " 'name': 'WAIKIKI 717.2, HI US',\n",
       " 'longitude': -157.8168,\n",
       " 'station': 'USC00519397'}"
      ]
     },
     "execution_count": 227,
     "metadata": {},
     "output_type": "execute_result"
    }
   ],
   "source": [
    "first_row_station = session.query(Station).first()\n",
    "first_row_station.__dict__"
   ]
  },
  {
   "cell_type": "markdown",
   "metadata": {},
   "source": [
    "# Exploratory Precipitation Analysis"
   ]
  },
  {
   "cell_type": "code",
   "execution_count": 228,
   "metadata": {},
   "outputs": [
    {
     "data": {
      "text/plain": [
       "['measurement', 'station']"
      ]
     },
     "execution_count": 228,
     "metadata": {},
     "output_type": "execute_result"
    }
   ],
   "source": [
    "inspector = inspect(engine)\n",
    "inspector.get_table_names()"
   ]
  },
  {
   "cell_type": "code",
   "execution_count": 229,
   "metadata": {},
   "outputs": [
    {
     "name": "stdout",
     "output_type": "stream",
     "text": [
      "id INTEGER\n",
      "station TEXT\n",
      "date TEXT\n",
      "prcp FLOAT\n",
      "tobs FLOAT\n"
     ]
    }
   ],
   "source": [
    "columns = inspector.get_columns('measurement')\n",
    "for c in columns:\n",
    "    print(c['name'], c[\"type\"])"
   ]
  },
  {
   "cell_type": "code",
   "execution_count": 230,
   "metadata": {},
   "outputs": [
    {
     "data": {
      "text/plain": [
       "[(19550,)]"
      ]
     },
     "execution_count": 230,
     "metadata": {},
     "output_type": "execute_result"
    }
   ],
   "source": [
    "# Total dates\n",
    "session.query(func.count(Measurement.date)).all()"
   ]
  },
  {
   "cell_type": "code",
   "execution_count": 232,
   "metadata": {},
   "outputs": [
    {
     "data": {
      "text/plain": [
       "('2017-08-23',)"
      ]
     },
     "execution_count": 232,
     "metadata": {},
     "output_type": "execute_result"
    }
   ],
   "source": [
    "# Find the most recent date in the data set.\n",
    "session.query(Measurement.date).order_by(Measurement.date.desc()).first()"
   ]
  },
  {
   "cell_type": "code",
   "execution_count": 233,
   "metadata": {},
   "outputs": [],
   "source": [
    "from datetime import datetime, timedelta"
   ]
  },
  {
   "cell_type": "code",
   "execution_count": 234,
   "metadata": {},
   "outputs": [
    {
     "data": {
      "text/html": [
       "<div>\n",
       "<style scoped>\n",
       "    .dataframe tbody tr th:only-of-type {\n",
       "        vertical-align: middle;\n",
       "    }\n",
       "\n",
       "    .dataframe tbody tr th {\n",
       "        vertical-align: top;\n",
       "    }\n",
       "\n",
       "    .dataframe thead th {\n",
       "        text-align: right;\n",
       "    }\n",
       "</style>\n",
       "<table border=\"1\" class=\"dataframe\">\n",
       "  <thead>\n",
       "    <tr style=\"text-align: right;\">\n",
       "      <th></th>\n",
       "      <th>Precipitation</th>\n",
       "    </tr>\n",
       "    <tr>\n",
       "      <th>Date</th>\n",
       "      <th></th>\n",
       "    </tr>\n",
       "  </thead>\n",
       "  <tbody>\n",
       "    <tr>\n",
       "      <th>2016-08-23</th>\n",
       "      <td>0.0</td>\n",
       "    </tr>\n",
       "    <tr>\n",
       "      <th>2016-08-23</th>\n",
       "      <td>3.8</td>\n",
       "    </tr>\n",
       "    <tr>\n",
       "      <th>2016-08-23</th>\n",
       "      <td>1.3</td>\n",
       "    </tr>\n",
       "    <tr>\n",
       "      <th>2016-08-23</th>\n",
       "      <td>NaN</td>\n",
       "    </tr>\n",
       "    <tr>\n",
       "      <th>2016-08-23</th>\n",
       "      <td>0.5</td>\n",
       "    </tr>\n",
       "    <tr>\n",
       "      <th>...</th>\n",
       "      <td>...</td>\n",
       "    </tr>\n",
       "    <tr>\n",
       "      <th>2017-08-22</th>\n",
       "      <td>12.7</td>\n",
       "    </tr>\n",
       "    <tr>\n",
       "      <th>2017-08-23</th>\n",
       "      <td>0.0</td>\n",
       "    </tr>\n",
       "    <tr>\n",
       "      <th>2017-08-23</th>\n",
       "      <td>0.0</td>\n",
       "    </tr>\n",
       "    <tr>\n",
       "      <th>2017-08-23</th>\n",
       "      <td>2.0</td>\n",
       "    </tr>\n",
       "    <tr>\n",
       "      <th>2017-08-23</th>\n",
       "      <td>11.4</td>\n",
       "    </tr>\n",
       "  </tbody>\n",
       "</table>\n",
       "<p>2230 rows × 1 columns</p>\n",
       "</div>"
      ],
      "text/plain": [
       "            Precipitation\n",
       "Date                     \n",
       "2016-08-23            0.0\n",
       "2016-08-23            3.8\n",
       "2016-08-23            1.3\n",
       "2016-08-23            NaN\n",
       "2016-08-23            0.5\n",
       "...                   ...\n",
       "2017-08-22           12.7\n",
       "2017-08-23            0.0\n",
       "2017-08-23            0.0\n",
       "2017-08-23            2.0\n",
       "2017-08-23           11.4\n",
       "\n",
       "[2230 rows x 1 columns]"
      ]
     },
     "execution_count": 234,
     "metadata": {},
     "output_type": "execute_result"
    }
   ],
   "source": [
    "# Design a query to retrieve the last 12 months of precipitation data and plot the results. \n",
    "# Starting from the most recent data point in the database. \n",
    "\n",
    "# Calculate the date one year from the last date in data set.\n",
    "\n",
    "# Perform a query to retrieve the data and precipitation scores\n",
    "\n",
    "query_date = dt.date(2016, 8, 22) \n",
    "\n",
    "\n",
    "results = session.query(Measurement.date, \n",
    "                        Measurement.prcp).\\\n",
    "                              order_by(Measurement.date.asc()).\\\n",
    "                  filter(func.strftime(Measurement.date) > query_date).all()\n",
    "\n",
    "\n",
    "# Save the query results as a Pandas DataFrame and set the index to the date column\n",
    "\n",
    "# Sort the dataframe by date\n",
    "\n",
    "prcp_rows_df = pd.DataFrame({\"Date\": result[0], \"Precipitation\": result[1]} for result in results)\n",
    "prcp_rows_df.set_index([\"Date\"])"
   ]
  },
  {
   "cell_type": "code",
   "execution_count": 235,
   "metadata": {},
   "outputs": [
    {
     "data": {
      "text/html": [
       "<div>\n",
       "<style scoped>\n",
       "    .dataframe tbody tr th:only-of-type {\n",
       "        vertical-align: middle;\n",
       "    }\n",
       "\n",
       "    .dataframe tbody tr th {\n",
       "        vertical-align: top;\n",
       "    }\n",
       "\n",
       "    .dataframe thead th {\n",
       "        text-align: right;\n",
       "    }\n",
       "</style>\n",
       "<table border=\"1\" class=\"dataframe\">\n",
       "  <thead>\n",
       "    <tr style=\"text-align: right;\">\n",
       "      <th></th>\n",
       "      <th>Date</th>\n",
       "      <th>Precipitation</th>\n",
       "    </tr>\n",
       "  </thead>\n",
       "  <tbody>\n",
       "    <tr>\n",
       "      <th>0</th>\n",
       "      <td>2016-08-23</td>\n",
       "      <td>0.0</td>\n",
       "    </tr>\n",
       "    <tr>\n",
       "      <th>1</th>\n",
       "      <td>2016-08-23</td>\n",
       "      <td>3.8</td>\n",
       "    </tr>\n",
       "    <tr>\n",
       "      <th>2</th>\n",
       "      <td>2016-08-23</td>\n",
       "      <td>1.3</td>\n",
       "    </tr>\n",
       "    <tr>\n",
       "      <th>4</th>\n",
       "      <td>2016-08-23</td>\n",
       "      <td>0.5</td>\n",
       "    </tr>\n",
       "    <tr>\n",
       "      <th>5</th>\n",
       "      <td>2016-08-23</td>\n",
       "      <td>45.5</td>\n",
       "    </tr>\n",
       "    <tr>\n",
       "      <th>...</th>\n",
       "      <td>...</td>\n",
       "      <td>...</td>\n",
       "    </tr>\n",
       "    <tr>\n",
       "      <th>2225</th>\n",
       "      <td>2017-08-22</td>\n",
       "      <td>12.7</td>\n",
       "    </tr>\n",
       "    <tr>\n",
       "      <th>2226</th>\n",
       "      <td>2017-08-23</td>\n",
       "      <td>0.0</td>\n",
       "    </tr>\n",
       "    <tr>\n",
       "      <th>2227</th>\n",
       "      <td>2017-08-23</td>\n",
       "      <td>0.0</td>\n",
       "    </tr>\n",
       "    <tr>\n",
       "      <th>2228</th>\n",
       "      <td>2017-08-23</td>\n",
       "      <td>2.0</td>\n",
       "    </tr>\n",
       "    <tr>\n",
       "      <th>2229</th>\n",
       "      <td>2017-08-23</td>\n",
       "      <td>11.4</td>\n",
       "    </tr>\n",
       "  </tbody>\n",
       "</table>\n",
       "<p>2021 rows × 2 columns</p>\n",
       "</div>"
      ],
      "text/plain": [
       "            Date  Precipitation\n",
       "0     2016-08-23            0.0\n",
       "1     2016-08-23            3.8\n",
       "2     2016-08-23            1.3\n",
       "4     2016-08-23            0.5\n",
       "5     2016-08-23           45.5\n",
       "...          ...            ...\n",
       "2225  2017-08-22           12.7\n",
       "2226  2017-08-23            0.0\n",
       "2227  2017-08-23            0.0\n",
       "2228  2017-08-23            2.0\n",
       "2229  2017-08-23           11.4\n",
       "\n",
       "[2021 rows x 2 columns]"
      ]
     },
     "execution_count": 235,
     "metadata": {},
     "output_type": "execute_result"
    }
   ],
   "source": [
    "prcp_rows_nonull_df = prcp_rows_df.dropna(how='any')\n",
    "prcp_rows_nonull_df"
   ]
  },
  {
   "cell_type": "code",
   "execution_count": 236,
   "metadata": {},
   "outputs": [
    {
     "data": {
      "text/plain": [
       "<pandas.core.groupby.generic.DataFrameGroupBy object at 0x7fa8211c4250>"
      ]
     },
     "execution_count": 236,
     "metadata": {},
     "output_type": "execute_result"
    }
   ],
   "source": [
    "prcp_rows_nonull_dategroup_df = prcp_rows_nonull_df.groupby([\"Date\"])\n",
    "prcp_rows_nonull_dategroup_df"
   ]
  },
  {
   "cell_type": "code",
   "execution_count": 237,
   "metadata": {},
   "outputs": [
    {
     "data": {
      "text/plain": [
       "Date\n",
       "2016-08-23     68.9\n",
       "2016-08-24    236.9\n",
       "2016-08-25     13.6\n",
       "2016-08-26      2.6\n",
       "2016-08-27      8.1\n",
       "              ...  \n",
       "2017-08-19      2.3\n",
       "2017-08-20      0.3\n",
       "2017-08-21     14.7\n",
       "2017-08-22     12.7\n",
       "2017-08-23     13.4\n",
       "Name: Precipitation, Length: 366, dtype: float64"
      ]
     },
     "execution_count": 237,
     "metadata": {},
     "output_type": "execute_result"
    }
   ],
   "source": [
    "group = prcp_rows_nonull_dategroup_df[\"Precipitation\"].sum()\n",
    "group"
   ]
  },
  {
   "cell_type": "code",
   "execution_count": 238,
   "metadata": {},
   "outputs": [
    {
     "data": {
      "text/html": [
       "<div>\n",
       "<style scoped>\n",
       "    .dataframe tbody tr th:only-of-type {\n",
       "        vertical-align: middle;\n",
       "    }\n",
       "\n",
       "    .dataframe tbody tr th {\n",
       "        vertical-align: top;\n",
       "    }\n",
       "\n",
       "    .dataframe thead th {\n",
       "        text-align: right;\n",
       "    }\n",
       "</style>\n",
       "<table border=\"1\" class=\"dataframe\">\n",
       "  <thead>\n",
       "    <tr style=\"text-align: right;\">\n",
       "      <th></th>\n",
       "      <th>Precipitation</th>\n",
       "    </tr>\n",
       "    <tr>\n",
       "      <th>Date</th>\n",
       "      <th></th>\n",
       "    </tr>\n",
       "  </thead>\n",
       "  <tbody>\n",
       "    <tr>\n",
       "      <th>2016-08-23</th>\n",
       "      <td>68.9</td>\n",
       "    </tr>\n",
       "    <tr>\n",
       "      <th>2016-08-24</th>\n",
       "      <td>236.9</td>\n",
       "    </tr>\n",
       "    <tr>\n",
       "      <th>2016-08-25</th>\n",
       "      <td>13.6</td>\n",
       "    </tr>\n",
       "    <tr>\n",
       "      <th>2016-08-26</th>\n",
       "      <td>2.6</td>\n",
       "    </tr>\n",
       "    <tr>\n",
       "      <th>2016-08-27</th>\n",
       "      <td>8.1</td>\n",
       "    </tr>\n",
       "    <tr>\n",
       "      <th>...</th>\n",
       "      <td>...</td>\n",
       "    </tr>\n",
       "    <tr>\n",
       "      <th>2017-08-19</th>\n",
       "      <td>2.3</td>\n",
       "    </tr>\n",
       "    <tr>\n",
       "      <th>2017-08-20</th>\n",
       "      <td>0.3</td>\n",
       "    </tr>\n",
       "    <tr>\n",
       "      <th>2017-08-21</th>\n",
       "      <td>14.7</td>\n",
       "    </tr>\n",
       "    <tr>\n",
       "      <th>2017-08-22</th>\n",
       "      <td>12.7</td>\n",
       "    </tr>\n",
       "    <tr>\n",
       "      <th>2017-08-23</th>\n",
       "      <td>13.4</td>\n",
       "    </tr>\n",
       "  </tbody>\n",
       "</table>\n",
       "<p>366 rows × 1 columns</p>\n",
       "</div>"
      ],
      "text/plain": [
       "            Precipitation\n",
       "Date                     \n",
       "2016-08-23           68.9\n",
       "2016-08-24          236.9\n",
       "2016-08-25           13.6\n",
       "2016-08-26            2.6\n",
       "2016-08-27            8.1\n",
       "...                   ...\n",
       "2017-08-19            2.3\n",
       "2017-08-20            0.3\n",
       "2017-08-21           14.7\n",
       "2017-08-22           12.7\n",
       "2017-08-23           13.4\n",
       "\n",
       "[366 rows x 1 columns]"
      ]
     },
     "execution_count": 238,
     "metadata": {},
     "output_type": "execute_result"
    }
   ],
   "source": [
    "group_df = pd.DataFrame(group)\n",
    "group_df"
   ]
  },
  {
   "cell_type": "code",
   "execution_count": 239,
   "metadata": {},
   "outputs": [],
   "source": [
    "x_axis = list(group_df.index.values)"
   ]
  },
  {
   "cell_type": "code",
   "execution_count": 240,
   "metadata": {},
   "outputs": [],
   "source": [
    "y_axis = group_df[\"Precipitation\"]"
   ]
  },
  {
   "cell_type": "code",
   "execution_count": 245,
   "metadata": {},
   "outputs": [
    {
     "data": {
      "image/png": "[encoded data removed]",
      "text/plain": [
       "<Figure size 432x288 with 1 Axes>"
      ]
     },
     "metadata": {},
     "output_type": "display_data"
    }
   ],
   "source": [
    "# Use Pandas Plotting with Matplotlib to plot the data\n",
    "# xticks=[\"2016_08_23\",\"2016_11_09\",\"2017_01_28\",\"2017_04_18\",\"2017_07_10\"]\n",
    "# x_axis = np.arange(y_axis)\n",
    "plt.bar(x_axis, y_axis, color=\"b\", alpha=0.5, align=\"center\")\n",
    "# plt.xticks(rotation='vertical')\n",
    "# tick_locations = [value for value in xticks in x_axis]\n",
    "# plt.xticks(tick_locations, x_axis)\n",
    "plt.xlim(-0.75, len(x_axis)-0.25)\n",
    "plt.ylim(0, max(y_axis)+10)\n",
    "plt.title(\"Precipitation by Date\")\n",
    "plt.xlabel(\"Date\")\n",
    "plt.ylabel(\"Precipitation in mm\")\n",
    "plt.gcf\n",
    "# plt.savefig(\"../Images/Precipitation.png\")\n",
    "plt.show()"
   ]
  },
  {
   "cell_type": "code",
   "execution_count": 247,
   "metadata": {},
   "outputs": [],
   "source": [
    "import scipy.stats as st"
   ]
  },
  {
   "cell_type": "code",
   "execution_count": null,
   "metadata": {},
   "outputs": [],
   "source": [
    "# Use Pandas to calcualte the summary statistics for the precipitation data"
   ]
  },
  {
   "cell_type": "code",
   "execution_count": 249,
   "metadata": {},
   "outputs": [
    {
     "name": "stdout",
     "output_type": "stream",
     "text": [
      "The mean precipitation 12 months back from 2017-08-23 is 24.880874316939888\n",
      "The median precipitation 12 months back from 2017-08-23 is 10.25\n",
      "The mode precipitation 12 months back from 2017-08-23 is ModeResult(mode=array([0.]), count=array([48]))\n"
     ]
    }
   ],
   "source": [
    "# Demonstrate calculating measures of central tendency\n",
    "mean_numpy = np.mean(group_df[\"Precipitation\"])\n",
    "print(f\"The mean precipitation 12 months back from 2017-08-23 is {mean_numpy}\")\n",
    "\n",
    "median_numpy = np.median(group_df[\"Precipitation\"])\n",
    "print(f\"The median precipitation 12 months back from 2017-08-23 is {median_numpy}\")\n",
    "\n",
    "mode_scipy = st.mode(group_df[\"Precipitation\"])\n",
    "print(f\"The mode precipitation 12 months back from 2017-08-23 is {mode_scipy}\")\n"
   ]
  },
  {
   "cell_type": "code",
   "execution_count": 250,
   "metadata": {},
   "outputs": [
    {
     "data": {
      "image/png": "[encoded data removed]",
      "text/plain": [
       "<Figure size 432x288 with 1 Axes>"
      ]
     },
     "metadata": {},
     "output_type": "display_data"
    },
    {
     "name": "stdout",
     "output_type": "stream",
     "text": [
      "NormaltestResult(statistic=331.0090775314818, pvalue=1.3252325186691376e-72)\n"
     ]
    }
   ],
   "source": [
    "# Characterize the data set using matplotlib and stats.normaltest\n",
    "plt.hist(group_df[\"Precipitation\"])\n",
    "plt.title(\"Precipitation by Date\")\n",
    "plt.xlabel(\"Date\")\n",
    "plt.ylabel(\"Precipitation in mm\")\n",
    "plt.show()\n",
    "print(st.normaltest(group_df[\"Precipitation\"].sample(366)))"
   ]
  },
  {
   "cell_type": "code",
   "execution_count": null,
   "metadata": {},
   "outputs": [],
   "source": [
    "# on full sample requires removing nulls, group by, order by etc\n",
    "# print(st.normaltest(_df[\"Precipitation\"].sample(19551)))"
   ]
  },
  {
   "cell_type": "code",
   "execution_count": 251,
   "metadata": {},
   "outputs": [
    {
     "name": "stdout",
     "output_type": "stream",
     "text": [
      "The population variance using the NumPy module is 2029.4347708202695\n",
      "The population standard deviation using the NumPy module is 45.04924828252153\n"
     ]
    }
   ],
   "source": [
    "# Demonstrate calculating the variance and standard deviation using the different modules\n",
    "var_numpy = np.var(group_df[\"Precipitation\"],ddof = 0)\n",
    "print(f\"The population variance using the NumPy module is {var_numpy}\")\n",
    "\n",
    "sd_numpy = np.std(group_df[\"Precipitation\"],ddof = 0)\n",
    "print(f\"The population standard deviation using the NumPy module is {sd_numpy}\")"
   ]
  },
  {
   "cell_type": "code",
   "execution_count": 252,
   "metadata": {},
   "outputs": [
    {
     "name": "stdout",
     "output_type": "stream",
     "text": [
      "Roughly 68% of the data is between -20.168 and 69.93\n",
      "Roughly 95% of the data is between -65.218 and 114.979\n",
      "Roughly 99.7% of the data is between -110.267 and 160.029\n"
     ]
    }
   ],
   "source": [
    "# Calculate the 68-95-99.7 rule using the standard deviation\n",
    "print(f\"Roughly 68% of the data is between {round(mean_numpy-sd_numpy,3)} and {round(mean_numpy+sd_numpy,3)}\")\n",
    "print(f\"Roughly 95% of the data is between {round(mean_numpy-2*sd_numpy,3)} and {round(mean_numpy+2*sd_numpy,3)}\")\n",
    "print(f\"Roughly 99.7% of the data is between {round(mean_numpy-3*sd_numpy,3)} and {round(mean_numpy+3*sd_numpy,3)}\")"
   ]
  },
  {
   "cell_type": "code",
   "execution_count": 253,
   "metadata": {},
   "outputs": [
    {
     "name": "stdout",
     "output_type": "stream",
     "text": [
      "The z-scores using the SciPy module are [ 9.77133412e-01  4.70638543e+00 -2.50412043e-01 -4.94589259e-01\n",
      " -3.72500651e-01  1.19911270e+00  2.71239280e-01 -5.12347602e-01\n",
      "  1.24128876e+00 -5.34545530e-01 -4.10237130e-01  1.62469430e-01\n",
      "  2.29063216e-01 -3.59181894e-01  1.42491294e-01  5.75350903e-01\n",
      " -2.90368315e-01  5.36995794e-02  2.40162180e-01  1.51370466e-01\n",
      "  3.15635138e-01  9.74913619e-01  7.49888486e+00  2.24463514e+00\n",
      " -8.83671641e-02 -1.70499500e-01 -2.52631836e-01 -3.68061065e-01\n",
      "  2.92818578e-02  1.06974608e-01  2.57920523e-01  3.33393481e-01\n",
      " -3.92478787e-01 -5.01248637e-01  3.86668509e-01  2.13524666e-01\n",
      " -4.79050709e-01  1.13251891e+00  9.80954367e-02  2.66799695e-01\n",
      " -1.46081779e-01 -1.61620329e-01  1.41665240e+00 -8.83671641e-02\n",
      " -4.61292366e-01 -5.45644495e-01 -5.30105945e-01 -5.52303873e-01\n",
      " -5.52303873e-01 -1.63840122e-01 -5.05688223e-01 -5.07908016e-01\n",
      " -5.52303873e-01 -3.32544379e-01 -5.52303873e-01 -2.39313079e-01\n",
      " -2.12675565e-01 -4.56852780e-01  1.81828935e-02 -3.70280858e-01\n",
      "  4.44383124e-01 -3.92478787e-01 -1.06125507e-01  6.92381294e-02\n",
      " -3.88039201e-01  4.97658153e-01 -2.30433908e-01 -1.90477636e-01\n",
      "  3.44492445e-01  3.57811202e-01 -4.32435059e-01 -5.30105945e-01\n",
      " -5.41204909e-01 -5.19006980e-01 -2.97027694e-01 -5.05688223e-01\n",
      " -4.50193401e-01  8.03370938e-02 -3.28104794e-01 -5.45644495e-01\n",
      " -5.52303873e-01 -5.52303873e-01 -5.52303873e-01 -4.67951744e-01\n",
      " -5.23446566e-01  3.17854931e-01 -5.16787187e-01 -5.34545530e-01\n",
      " -3.36983965e-01 -1.51139995e-02  1.18579394e+00  2.27349245e+00\n",
      " -1.70499500e-01  2.82338245e-01  1.93546530e-01 -2.63730801e-01\n",
      " -2.41532872e-01 -1.46081779e-01 -3.10346451e-01  4.92599936e-02\n",
      "  4.46602917e-01  7.81791640e-01  9.74913619e-01 -1.01685921e-01\n",
      "  1.27236586e+00 -5.30105945e-01 -3.39203758e-01 -2.88148522e-01\n",
      "  4.90998774e-01 -4.79050709e-01 -4.12456923e-01 -5.21226773e-01\n",
      " -1.19444264e-01  2.95657002e-01 -4.03577751e-01 -5.27886152e-01\n",
      " -3.52522515e-01 -4.84108925e-02 -3.14786037e-01 -5.34545530e-01\n",
      " -4.39713068e-02  8.41726047e-01  1.42491294e-01  3.62250788e-01\n",
      " -3.08126658e-01  5.97548832e-01 -4.14676716e-01 -3.19225622e-01\n",
      "  7.90670811e-01  1.33673986e+00  6.55263446e-01 -3.52522515e-01\n",
      " -5.38985116e-01 -5.52303873e-01 -4.50193401e-01 -1.73337924e-02\n",
      " -1.01685921e-01 -5.19006980e-01 -5.16787187e-01 -5.52303873e-01\n",
      " -5.52303873e-01 -5.52303873e-01 -5.52303873e-01 -5.52303873e-01\n",
      " -5.45644495e-01 -5.45644495e-01 -5.52303873e-01 -5.52303873e-01\n",
      " -5.12347602e-01 -5.41204909e-01 -5.52303873e-01 -3.94698580e-01\n",
      "  2.48422721e-02 -2.17733781e-02  7.15197854e-01  1.46770764e+00\n",
      " -4.90149673e-01 -5.16787187e-01 -4.72391330e-01  7.08392915e-03\n",
      " -5.23446566e-01 -5.52303873e-01 -5.52303873e-01 -5.52303873e-01\n",
      " -5.52303873e-01 -5.52303873e-01 -5.52303873e-01 -3.36983965e-01\n",
      "  3.62090672e+00  5.59193722e-02 -5.41204909e-01 -5.52303873e-01\n",
      "  5.76078704e+00  5.35678474e+00  1.09700223e+00 -5.45644495e-01\n",
      " -5.05688223e-01  6.97439511e-01  3.81610293e-02 -5.45644495e-01\n",
      " -4.45753816e-01 -5.52303873e-01 -4.79050709e-01 -4.17515139e-02\n",
      " -5.45644495e-01 -5.52303873e-01 -4.67951744e-01 -5.52303873e-01\n",
      " -5.52303873e-01 -9.05869570e-02  5.99830488e+00  3.14587104e+00\n",
      "  7.06318682e-01 -5.52303873e-01  1.29172537e-01 -2.45972458e-01\n",
      " -5.52303873e-01 -5.52303873e-01  5.53152974e-01 -3.88039201e-01\n",
      " -5.27886152e-01 -5.52303873e-01 -5.52303873e-01 -5.19006980e-01\n",
      " -5.19006980e-01 -5.52303873e-01 -1.48301572e-01 -5.52303873e-01\n",
      " -5.52303873e-01 -5.41204909e-01 -5.01248637e-01 -5.52303873e-01\n",
      " -5.23446566e-01  8.25568866e-02  5.57592560e-01 -5.52303873e-01\n",
      " -5.45644495e-01 -1.50521364e-01 -4.43534023e-01 -4.67951744e-01\n",
      " -5.45644495e-01 -3.21445415e-01 -5.52303873e-01 -1.81598465e-01\n",
      " -4.67951744e-01 -1.81598465e-01 -5.19006980e-01 -5.52303873e-01\n",
      " -5.52303873e-01 -5.52303873e-01 -5.38985116e-01 -2.83708936e-01\n",
      "  5.81391651e-02  6.25787508e-02  3.23466276e+00  4.31064367e-01\n",
      "  4.92599936e-02  1.17691477e+00  1.34117944e+00 -4.39094437e-01\n",
      " -1.10565093e-01  4.17141535e+00  2.24463514e+00 -2.92588108e-01\n",
      " -5.16787187e-01 -5.52303873e-01 -3.30324587e-01 -3.17005829e-01\n",
      "  1.83841304e+00  3.98051316e+00  3.06595850e+00 -9.28067499e-02\n",
      " -5.21226773e-01 -5.32325738e-01 -5.07908016e-01 -3.39203758e-01\n",
      " -5.19006980e-01 -4.83490294e-01  1.14361788e+00  2.05595275e+00\n",
      " -6.61692355e-02 -2.12675565e-01 -4.63512159e-01 -4.19116301e-01\n",
      "  1.35831915e-01 -5.72900640e-02 -3.12566244e-01 -4.67951744e-01\n",
      " -7.06088212e-02 -5.27886152e-01 -5.34545530e-01 -5.45644495e-01\n",
      " -3.50302722e-01 -1.52741157e-01  1.63863169e+00  7.01879097e-01\n",
      " -5.41204909e-01 -2.63730801e-01 -3.21445415e-01 -3.14786037e-01\n",
      "  4.22185195e-01 -3.43643344e-01 -5.27886152e-01 -3.61401687e-01\n",
      " -2.08235979e-01  9.58756438e-02 -5.05688223e-01 -5.52303873e-01\n",
      " -5.45644495e-01 -5.34545530e-01 -5.30105945e-01  3.08975759e-01\n",
      "  6.61922825e-01  4.35503952e-01  2.24623630e-01  3.33393481e-01\n",
      "  9.74913619e-01 -4.41314230e-01 -2.48192251e-01  2.51261145e-01\n",
      " -1.39422400e-01 -2.41532872e-01 -2.65950593e-01 -3.05906865e-01\n",
      " -1.74939086e-01 -1.92697429e-01 -2.14895358e-01 -4.96809052e-01\n",
      " -4.90149673e-01 -5.34545530e-01 -5.12347602e-01 -2.59291215e-01\n",
      " -4.08017337e-01 -1.46081779e-01 -1.34982814e-01 -4.67951744e-01\n",
      " -5.52303873e-01 -5.41204909e-01 -2.70390179e-01 -4.96809052e-01\n",
      " -4.39094437e-01 -5.30105945e-01 -5.34545530e-01 -3.48082930e-01\n",
      "  4.68800845e-01 -1.51139995e-02 -4.43534023e-01 -9.72463356e-02\n",
      " -3.95317211e-02  8.77242733e-01 -3.19225622e-01  1.46930880e-01\n",
      " -4.79050709e-01  1.94052352e+00  8.47766795e-02  1.29012421e+00\n",
      " -2.08235979e-01 -2.72609972e-01 -5.45644495e-01 -1.15004679e-01\n",
      " -2.10455772e-01 -3.83599615e-01 -5.52303873e-01 -4.74611123e-01\n",
      " -3.81379823e-01 -5.12347602e-01 -5.19006980e-01 -5.19006980e-01\n",
      " -5.52303873e-01 -5.23446566e-01 -3.05906865e-01 -4.67951744e-01\n",
      " -5.12347602e-01 -5.52303873e-01 -4.72391330e-01 -5.52303873e-01\n",
      " -3.76940237e-01 -9.05869570e-02 -2.08235979e-01 -4.43534023e-01\n",
      " -5.19006980e-01 -5.01248637e-01 -5.45644495e-01 -2.25994322e-01\n",
      " -2.70390179e-01 -2.54851629e-01]\n"
     ]
    }
   ],
   "source": [
    "# Demonstrate calculating the z-scores using SciPy\n",
    "z_scipy = st.zscore(group_df[\"Precipitation\"])\n",
    "print(f\"The z-scores using the SciPy module are {z_scipy}\")"
   ]
  },
  {
   "cell_type": "code",
   "execution_count": 254,
   "metadata": {},
   "outputs": [],
   "source": [
    "# Close the session\n",
    "session.close()"
   ]
  },
  {
   "cell_type": "markdown",
   "metadata": {},
   "source": [
    "# Exploratory Station Analysis"
   ]
  },
  {
   "cell_type": "code",
   "execution_count": 255,
   "metadata": {},
   "outputs": [
    {
     "name": "stdout",
     "output_type": "stream",
     "text": [
      "id INTEGER\n",
      "station TEXT\n",
      "name TEXT\n",
      "latitude FLOAT\n",
      "longitude FLOAT\n",
      "elevation FLOAT\n"
     ]
    }
   ],
   "source": [
    "columns = inspector.get_columns('station')\n",
    "for c in columns:\n",
    "    print(c['name'], c[\"type\"])"
   ]
  },
  {
   "cell_type": "code",
   "execution_count": 256,
   "metadata": {},
   "outputs": [
    {
     "data": {
      "text/plain": [
       "[(9,)]"
      ]
     },
     "execution_count": 256,
     "metadata": {},
     "output_type": "execute_result"
    }
   ],
   "source": [
    "# Design a query to calculate the total number stations in the dataset\n",
    "session.query(func.count(Station.station)).all()\n"
   ]
  },
  {
   "cell_type": "code",
   "execution_count": null,
   "metadata": {},
   "outputs": [],
   "source": [
    "# Design a query to find the most active stations (i.e. what stations have the most rows?)\n",
    "# List the stations and the counts in descending order.\n"
   ]
  },
  {
   "cell_type": "code",
   "execution_count": null,
   "metadata": {},
   "outputs": [],
   "source": [
    "# Using the most active station id from the previous query, calculate the lowest, highest, and average temperature.\n"
   ]
  },
  {
   "cell_type": "code",
   "execution_count": null,
   "metadata": {},
   "outputs": [],
   "source": [
    "# Using the most active station id\n",
    "# Query the last 12 months of temperature observation data for this station and plot the results as a histogram\n"
   ]
  },
  {
   "cell_type": "markdown",
   "metadata": {},
   "source": [
    "# Close session"
   ]
  },
  {
   "cell_type": "code",
   "execution_count": null,
   "metadata": {},
   "outputs": [],
   "source": [
    "# Close Session\n",
    "session.close()"
   ]
  },
  {
   "cell_type": "code",
   "execution_count": null,
   "metadata": {},
   "outputs": [],
   "source": []
  }
 ],
 "metadata": {
  "anaconda-cloud": {},
  "kernel_info": {
   "name": "python3"
  },
  "kernelspec": {
   "display_name": "PythonData",
   "language": "python",
   "name": "python3"
  },
  "language_info": {
   "codemirror_mode": {
    "name": "ipython",
    "version": 3
   },
   "file_extension": ".py",
   "mimetype": "text/x-python",
   "name": "python",
   "nbconvert_exporter": "python",
   "pygments_lexer": "ipython3",
   "version": "3.7.7"
  },
  "nteract": {
   "version": "0.12.3"
  },
  "varInspector": {
   "cols": {
    "lenName": 16,
    "lenType": 16,
    "lenVar": 40
   },
   "kernels_config": {
    "python": {
     "delete_cmd_postfix": "",
     "delete_cmd_prefix": "del ",
     "library": "var_list.py",
     "varRefreshCmd": "print(var_dic_list())"
    },
    "r": {
     "delete_cmd_postfix": ") ",
     "delete_cmd_prefix": "rm(",
     "library": "var_list.r",
     "varRefreshCmd": "cat(var_dic_list()) "
    }
   },
   "types_to_exclude": [
    "module",
    "function",
    "builtin_function_or_method",
    "instance",
    "_Feature"
   ],
   "window_display": false
  },
  "vscode": {
   "interpreter": {
    "hash": "7db2a412b11edafb391183ba42ce38835c9a015e2a8dbcaea088651dc9739e2d"
   }
  }
 },
 "nbformat": 4,
 "nbformat_minor": 2
}
