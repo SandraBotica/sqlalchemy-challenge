{
 "cells": [
  {
   "cell_type": "code",
   "execution_count": 1,
   "metadata": {},
   "outputs": [],
   "source": [
    "%matplotlib inline\n",
    "from matplotlib import style\n",
    "style.use('fivethirtyeight')\n",
    "import matplotlib.pyplot as plt\n",
    "import matplotlib.dates as mdates"
   ]
  },
  {
   "cell_type": "code",
   "execution_count": 2,
   "metadata": {},
   "outputs": [],
   "source": [
    "import numpy as np\n",
    "import pandas as pd\n",
    "import datetime as dt"
   ]
  },
  {
   "cell_type": "markdown",
   "metadata": {},
   "source": [
    "# Reflect Tables into SQLAlchemy ORM"
   ]
  },
  {
   "cell_type": "code",
   "execution_count": 3,
   "metadata": {},
   "outputs": [],
   "source": [
    "# Python SQL toolkit and Object Relational Mapper\n",
    "import sqlalchemy\n",
    "from sqlalchemy.ext.automap import automap_base\n",
    "from sqlalchemy.orm import Session\n",
    "from sqlalchemy import create_engine, inspect,func"
   ]
  },
  {
   "cell_type": "code",
   "execution_count": 4,
   "metadata": {},
   "outputs": [],
   "source": [
    "# create engine to hawaii.sqlite\n",
    "engine = create_engine(\"sqlite:///../Resources/hawaii.sqlite\")"
   ]
  },
  {
   "cell_type": "code",
   "execution_count": 5,
   "metadata": {},
   "outputs": [],
   "source": [
    "Base = automap_base()"
   ]
  },
  {
   "cell_type": "code",
   "execution_count": 6,
   "metadata": {},
   "outputs": [],
   "source": [
    "# reflect an existing database into a new model\n",
    "# reflect the tables\n",
    "Base.prepare(autoload_with=engine)"
   ]
  },
  {
   "cell_type": "code",
   "execution_count": 7,
   "metadata": {},
   "outputs": [
    {
     "data": {
      "text/plain": [
       "['measurement', 'station']"
      ]
     },
     "execution_count": 7,
     "metadata": {},
     "output_type": "execute_result"
    }
   ],
   "source": [
    "# View all of the classes that automap found\n",
    "Base.classes.keys()"
   ]
  },
  {
   "cell_type": "code",
   "execution_count": 8,
   "metadata": {},
   "outputs": [],
   "source": [
    "# Save references to each table\n",
    "Measurement = Base.classes.measurement"
   ]
  },
  {
   "cell_type": "code",
   "execution_count": 9,
   "metadata": {},
   "outputs": [],
   "source": [
    "# Save references to each table\n",
    "Station = Base.classes.station"
   ]
  },
  {
   "cell_type": "code",
   "execution_count": 10,
   "metadata": {},
   "outputs": [],
   "source": [
    "# Create our session (link) from Python to the DB\n",
    "session = Session(engine)"
   ]
  },
  {
   "cell_type": "code",
   "execution_count": 11,
   "metadata": {},
   "outputs": [
    {
     "data": {
      "text/plain": [
       "{'_sa_instance_state': <sqlalchemy.orm.state.InstanceState at 0x7f8b49496cd0>,\n",
       " 'id': 0,\n",
       " 'date': '2010-01-01',\n",
       " 'tobs': 18.3,\n",
       " 'station': 'USC00519397',\n",
       " 'prcp': 2.0}"
      ]
     },
     "execution_count": 11,
     "metadata": {},
     "output_type": "execute_result"
    }
   ],
   "source": [
    "# query what the first row of information includes in the measurement csv in the hawaii sqlite\n",
    "# printing query as a dictionary of column headers as the key and first row of data as the values\n",
    "first_row_measurement = session.query(Measurement).first()\n",
    "first_row_measurement.__dict__"
   ]
  },
  {
   "cell_type": "code",
   "execution_count": 12,
   "metadata": {},
   "outputs": [
    {
     "data": {
      "text/plain": [
       "{'_sa_instance_state': <sqlalchemy.orm.state.InstanceState at 0x7f8b2001a990>,\n",
       " 'latitude': 21.2716,\n",
       " 'elevation': 0.914,\n",
       " 'id': 0,\n",
       " 'name': 'WAIKIKI 717.2, HI US',\n",
       " 'longitude': -157.8168,\n",
       " 'station': 'USC00519397'}"
      ]
     },
     "execution_count": 12,
     "metadata": {},
     "output_type": "execute_result"
    }
   ],
   "source": [
    "# query what the first row of information includes in the station csv in the hawaii sqlite\n",
    "# printing query as a dictionary of column headers as the key and first row of data as the values\n",
    "first_row_station = session.query(Station).first()\n",
    "first_row_station.__dict__"
   ]
  },
  {
   "cell_type": "markdown",
   "metadata": {},
   "source": [
    "# Exploratory Precipitation Analysis"
   ]
  },
  {
   "cell_type": "code",
   "execution_count": 13,
   "metadata": {},
   "outputs": [
    {
     "data": {
      "text/plain": [
       "['measurement', 'station']"
      ]
     },
     "execution_count": 13,
     "metadata": {},
     "output_type": "execute_result"
    }
   ],
   "source": [
    "inspector = inspect(engine)\n",
    "inspector.get_table_names()"
   ]
  },
  {
   "cell_type": "code",
   "execution_count": 14,
   "metadata": {},
   "outputs": [
    {
     "name": "stdout",
     "output_type": "stream",
     "text": [
      "id INTEGER\n",
      "station TEXT\n",
      "date TEXT\n",
      "prcp FLOAT\n",
      "tobs FLOAT\n"
     ]
    }
   ],
   "source": [
    "columns = inspector.get_columns('measurement')\n",
    "for c in columns:\n",
    "    print(c['name'], c[\"type\"])"
   ]
  },
  {
   "cell_type": "code",
   "execution_count": 15,
   "metadata": {},
   "outputs": [
    {
     "data": {
      "text/plain": [
       "[(19550,)]"
      ]
     },
     "execution_count": 15,
     "metadata": {},
     "output_type": "execute_result"
    }
   ],
   "source": [
    "# Total dates\n",
    "session.query(func.count(Measurement.date)).all()"
   ]
  },
  {
   "cell_type": "code",
   "execution_count": 16,
   "metadata": {},
   "outputs": [
    {
     "data": {
      "text/plain": [
       "('2010-01-01',)"
      ]
     },
     "execution_count": 16,
     "metadata": {},
     "output_type": "execute_result"
    }
   ],
   "source": [
    "# Find the first date in the data set.\n",
    "session.query(Measurement.date).order_by(Measurement.date).first()"
   ]
  },
  {
   "cell_type": "code",
   "execution_count": 17,
   "metadata": {},
   "outputs": [
    {
     "data": {
      "text/plain": [
       "('2017-08-23',)"
      ]
     },
     "execution_count": 17,
     "metadata": {},
     "output_type": "execute_result"
    }
   ],
   "source": [
    "# Find the most recent date in the data set.\n",
    "session.query(Measurement.date).order_by(Measurement.date.desc()).first()"
   ]
  },
  {
   "cell_type": "code",
   "execution_count": 18,
   "metadata": {},
   "outputs": [],
   "source": [
    "from datetime import datetime, timedelta"
   ]
  },
  {
   "cell_type": "code",
   "execution_count": 19,
   "metadata": {},
   "outputs": [
    {
     "data": {
      "text/html": [
       "<div>\n",
       "<style scoped>\n",
       "    .dataframe tbody tr th:only-of-type {\n",
       "        vertical-align: middle;\n",
       "    }\n",
       "\n",
       "    .dataframe tbody tr th {\n",
       "        vertical-align: top;\n",
       "    }\n",
       "\n",
       "    .dataframe thead th {\n",
       "        text-align: right;\n",
       "    }\n",
       "</style>\n",
       "<table border=\"1\" class=\"dataframe\">\n",
       "  <thead>\n",
       "    <tr style=\"text-align: right;\">\n",
       "      <th></th>\n",
       "      <th>Precipitation</th>\n",
       "    </tr>\n",
       "    <tr>\n",
       "      <th>Date</th>\n",
       "      <th></th>\n",
       "    </tr>\n",
       "  </thead>\n",
       "  <tbody>\n",
       "    <tr>\n",
       "      <th>2016-08-23</th>\n",
       "      <td>0.0</td>\n",
       "    </tr>\n",
       "    <tr>\n",
       "      <th>2016-08-23</th>\n",
       "      <td>3.8</td>\n",
       "    </tr>\n",
       "    <tr>\n",
       "      <th>2016-08-23</th>\n",
       "      <td>1.3</td>\n",
       "    </tr>\n",
       "    <tr>\n",
       "      <th>2016-08-23</th>\n",
       "      <td>NaN</td>\n",
       "    </tr>\n",
       "    <tr>\n",
       "      <th>2016-08-23</th>\n",
       "      <td>0.5</td>\n",
       "    </tr>\n",
       "    <tr>\n",
       "      <th>...</th>\n",
       "      <td>...</td>\n",
       "    </tr>\n",
       "    <tr>\n",
       "      <th>2017-08-22</th>\n",
       "      <td>12.7</td>\n",
       "    </tr>\n",
       "    <tr>\n",
       "      <th>2017-08-23</th>\n",
       "      <td>0.0</td>\n",
       "    </tr>\n",
       "    <tr>\n",
       "      <th>2017-08-23</th>\n",
       "      <td>0.0</td>\n",
       "    </tr>\n",
       "    <tr>\n",
       "      <th>2017-08-23</th>\n",
       "      <td>2.0</td>\n",
       "    </tr>\n",
       "    <tr>\n",
       "      <th>2017-08-23</th>\n",
       "      <td>11.4</td>\n",
       "    </tr>\n",
       "  </tbody>\n",
       "</table>\n",
       "<p>2230 rows × 1 columns</p>\n",
       "</div>"
      ],
      "text/plain": [
       "            Precipitation\n",
       "Date                     \n",
       "2016-08-23            0.0\n",
       "2016-08-23            3.8\n",
       "2016-08-23            1.3\n",
       "2016-08-23            NaN\n",
       "2016-08-23            0.5\n",
       "...                   ...\n",
       "2017-08-22           12.7\n",
       "2017-08-23            0.0\n",
       "2017-08-23            0.0\n",
       "2017-08-23            2.0\n",
       "2017-08-23           11.4\n",
       "\n",
       "[2230 rows x 1 columns]"
      ]
     },
     "execution_count": 19,
     "metadata": {},
     "output_type": "execute_result"
    }
   ],
   "source": [
    "# Design a query to retrieve the last 12 months of precipitation data and plot the results. \n",
    "# Starting from the most recent data point in the database. \n",
    "\n",
    "# Calculate the date one year from the last date in data set.\n",
    "\n",
    "# Perform a query to retrieve the data and precipitation scores\n",
    "\n",
    "query_date = dt.date(2016, 8, 22) \n",
    "\n",
    "\n",
    "results = session.query(Measurement.date, \n",
    "                        Measurement.prcp).\\\n",
    "                              order_by(Measurement.date.asc()).\\\n",
    "                  filter(func.strftime(Measurement.date) > query_date).all()\n",
    "\n",
    "\n",
    "# Save the query results as a Pandas DataFrame and set the index to the date column\n",
    "\n",
    "# Sort the dataframe by date\n",
    "\n",
    "prcp_rows_df = pd.DataFrame({\"Date\": result[0], \"Precipitation\": result[1]} for result in results)\n",
    "prcp_rows_df.set_index([\"Date\"])"
   ]
  },
  {
   "cell_type": "code",
   "execution_count": 20,
   "metadata": {},
   "outputs": [
    {
     "data": {
      "text/html": [
       "<div>\n",
       "<style scoped>\n",
       "    .dataframe tbody tr th:only-of-type {\n",
       "        vertical-align: middle;\n",
       "    }\n",
       "\n",
       "    .dataframe tbody tr th {\n",
       "        vertical-align: top;\n",
       "    }\n",
       "\n",
       "    .dataframe thead th {\n",
       "        text-align: right;\n",
       "    }\n",
       "</style>\n",
       "<table border=\"1\" class=\"dataframe\">\n",
       "  <thead>\n",
       "    <tr style=\"text-align: right;\">\n",
       "      <th></th>\n",
       "      <th>Date</th>\n",
       "      <th>Precipitation</th>\n",
       "    </tr>\n",
       "  </thead>\n",
       "  <tbody>\n",
       "    <tr>\n",
       "      <th>0</th>\n",
       "      <td>2016-08-23</td>\n",
       "      <td>0.0</td>\n",
       "    </tr>\n",
       "    <tr>\n",
       "      <th>1</th>\n",
       "      <td>2016-08-23</td>\n",
       "      <td>3.8</td>\n",
       "    </tr>\n",
       "    <tr>\n",
       "      <th>2</th>\n",
       "      <td>2016-08-23</td>\n",
       "      <td>1.3</td>\n",
       "    </tr>\n",
       "    <tr>\n",
       "      <th>4</th>\n",
       "      <td>2016-08-23</td>\n",
       "      <td>0.5</td>\n",
       "    </tr>\n",
       "    <tr>\n",
       "      <th>5</th>\n",
       "      <td>2016-08-23</td>\n",
       "      <td>45.5</td>\n",
       "    </tr>\n",
       "    <tr>\n",
       "      <th>...</th>\n",
       "      <td>...</td>\n",
       "      <td>...</td>\n",
       "    </tr>\n",
       "    <tr>\n",
       "      <th>2225</th>\n",
       "      <td>2017-08-22</td>\n",
       "      <td>12.7</td>\n",
       "    </tr>\n",
       "    <tr>\n",
       "      <th>2226</th>\n",
       "      <td>2017-08-23</td>\n",
       "      <td>0.0</td>\n",
       "    </tr>\n",
       "    <tr>\n",
       "      <th>2227</th>\n",
       "      <td>2017-08-23</td>\n",
       "      <td>0.0</td>\n",
       "    </tr>\n",
       "    <tr>\n",
       "      <th>2228</th>\n",
       "      <td>2017-08-23</td>\n",
       "      <td>2.0</td>\n",
       "    </tr>\n",
       "    <tr>\n",
       "      <th>2229</th>\n",
       "      <td>2017-08-23</td>\n",
       "      <td>11.4</td>\n",
       "    </tr>\n",
       "  </tbody>\n",
       "</table>\n",
       "<p>2021 rows × 2 columns</p>\n",
       "</div>"
      ],
      "text/plain": [
       "            Date  Precipitation\n",
       "0     2016-08-23            0.0\n",
       "1     2016-08-23            3.8\n",
       "2     2016-08-23            1.3\n",
       "4     2016-08-23            0.5\n",
       "5     2016-08-23           45.5\n",
       "...          ...            ...\n",
       "2225  2017-08-22           12.7\n",
       "2226  2017-08-23            0.0\n",
       "2227  2017-08-23            0.0\n",
       "2228  2017-08-23            2.0\n",
       "2229  2017-08-23           11.4\n",
       "\n",
       "[2021 rows x 2 columns]"
      ]
     },
     "execution_count": 20,
     "metadata": {},
     "output_type": "execute_result"
    }
   ],
   "source": [
    "# removing null values from the DataFrame (this may affect the summary statistics)\n",
    "prcp_rows_nonull_df = prcp_rows_df.dropna(how='any')\n",
    "prcp_rows_nonull_df"
   ]
  },
  {
   "cell_type": "code",
   "execution_count": 21,
   "metadata": {},
   "outputs": [
    {
     "data": {
      "text/html": [
       "<div>\n",
       "<style scoped>\n",
       "    .dataframe tbody tr th:only-of-type {\n",
       "        vertical-align: middle;\n",
       "    }\n",
       "\n",
       "    .dataframe tbody tr th {\n",
       "        vertical-align: top;\n",
       "    }\n",
       "\n",
       "    .dataframe thead th {\n",
       "        text-align: right;\n",
       "    }\n",
       "</style>\n",
       "<table border=\"1\" class=\"dataframe\">\n",
       "  <thead>\n",
       "    <tr style=\"text-align: right;\">\n",
       "      <th></th>\n",
       "      <th>Date</th>\n",
       "      <th>Precipitation</th>\n",
       "    </tr>\n",
       "  </thead>\n",
       "  <tbody>\n",
       "    <tr>\n",
       "      <th>0</th>\n",
       "      <td>2016-08-23</td>\n",
       "      <td>0.0</td>\n",
       "    </tr>\n",
       "    <tr>\n",
       "      <th>1</th>\n",
       "      <td>2016-08-23</td>\n",
       "      <td>3.8</td>\n",
       "    </tr>\n",
       "    <tr>\n",
       "      <th>2</th>\n",
       "      <td>2016-08-23</td>\n",
       "      <td>1.3</td>\n",
       "    </tr>\n",
       "    <tr>\n",
       "      <th>4</th>\n",
       "      <td>2016-08-23</td>\n",
       "      <td>0.5</td>\n",
       "    </tr>\n",
       "    <tr>\n",
       "      <th>5</th>\n",
       "      <td>2016-08-23</td>\n",
       "      <td>45.5</td>\n",
       "    </tr>\n",
       "    <tr>\n",
       "      <th>6</th>\n",
       "      <td>2016-08-23</td>\n",
       "      <td>17.8</td>\n",
       "    </tr>\n",
       "  </tbody>\n",
       "</table>\n",
       "</div>"
      ],
      "text/plain": [
       "         Date  Precipitation\n",
       "0  2016-08-23            0.0\n",
       "1  2016-08-23            3.8\n",
       "2  2016-08-23            1.3\n",
       "4  2016-08-23            0.5\n",
       "5  2016-08-23           45.5\n",
       "6  2016-08-23           17.8"
      ]
     },
     "execution_count": 21,
     "metadata": {},
     "output_type": "execute_result"
    }
   ],
   "source": [
    "# Looking at data fro one date to udnerstand the dataset\n",
    "prcp_one_date_df = prcp_rows_nonull_df.loc[prcp_rows_nonull_df[\"Date\"] == \"2016-08-23\", :]\n",
    "prcp_one_date_df\n"
   ]
  },
  {
   "cell_type": "code",
   "execution_count": 22,
   "metadata": {},
   "outputs": [
    {
     "data": {
      "text/plain": [
       "<pandas.core.groupby.generic.DataFrameGroupBy object at 0x7f8b4aa39310>"
      ]
     },
     "execution_count": 22,
     "metadata": {},
     "output_type": "execute_result"
    }
   ],
   "source": [
    "# Grouping the dataset by date\n",
    "prcp_rows_nonull_dategroup_df = prcp_rows_nonull_df.groupby([\"Date\"])\n",
    "prcp_rows_nonull_dategroup_df"
   ]
  },
  {
   "cell_type": "code",
   "execution_count": 23,
   "metadata": {},
   "outputs": [
    {
     "data": {
      "text/plain": [
       "Date\n",
       "2016-08-23     68.9\n",
       "2016-08-24    236.9\n",
       "2016-08-25     13.6\n",
       "2016-08-26      2.6\n",
       "2016-08-27      8.1\n",
       "              ...  \n",
       "2017-08-19      2.3\n",
       "2017-08-20      0.3\n",
       "2017-08-21     14.7\n",
       "2017-08-22     12.7\n",
       "2017-08-23     13.4\n",
       "Name: Precipitation, Length: 366, dtype: float64"
      ]
     },
     "execution_count": 23,
     "metadata": {},
     "output_type": "execute_result"
    }
   ],
   "source": [
    "# Calculating the sum of precipitation for each date\n",
    "group = prcp_rows_nonull_dategroup_df[\"Precipitation\"].sum()\n",
    "group"
   ]
  },
  {
   "cell_type": "code",
   "execution_count": 24,
   "metadata": {},
   "outputs": [
    {
     "data": {
      "text/html": [
       "<div>\n",
       "<style scoped>\n",
       "    .dataframe tbody tr th:only-of-type {\n",
       "        vertical-align: middle;\n",
       "    }\n",
       "\n",
       "    .dataframe tbody tr th {\n",
       "        vertical-align: top;\n",
       "    }\n",
       "\n",
       "    .dataframe thead th {\n",
       "        text-align: right;\n",
       "    }\n",
       "</style>\n",
       "<table border=\"1\" class=\"dataframe\">\n",
       "  <thead>\n",
       "    <tr style=\"text-align: right;\">\n",
       "      <th></th>\n",
       "      <th>Precipitation</th>\n",
       "    </tr>\n",
       "    <tr>\n",
       "      <th>Date</th>\n",
       "      <th></th>\n",
       "    </tr>\n",
       "  </thead>\n",
       "  <tbody>\n",
       "    <tr>\n",
       "      <th>2016-08-23</th>\n",
       "      <td>68.9</td>\n",
       "    </tr>\n",
       "    <tr>\n",
       "      <th>2016-08-24</th>\n",
       "      <td>236.9</td>\n",
       "    </tr>\n",
       "    <tr>\n",
       "      <th>2016-08-25</th>\n",
       "      <td>13.6</td>\n",
       "    </tr>\n",
       "    <tr>\n",
       "      <th>2016-08-26</th>\n",
       "      <td>2.6</td>\n",
       "    </tr>\n",
       "    <tr>\n",
       "      <th>2016-08-27</th>\n",
       "      <td>8.1</td>\n",
       "    </tr>\n",
       "    <tr>\n",
       "      <th>...</th>\n",
       "      <td>...</td>\n",
       "    </tr>\n",
       "    <tr>\n",
       "      <th>2017-08-19</th>\n",
       "      <td>2.3</td>\n",
       "    </tr>\n",
       "    <tr>\n",
       "      <th>2017-08-20</th>\n",
       "      <td>0.3</td>\n",
       "    </tr>\n",
       "    <tr>\n",
       "      <th>2017-08-21</th>\n",
       "      <td>14.7</td>\n",
       "    </tr>\n",
       "    <tr>\n",
       "      <th>2017-08-22</th>\n",
       "      <td>12.7</td>\n",
       "    </tr>\n",
       "    <tr>\n",
       "      <th>2017-08-23</th>\n",
       "      <td>13.4</td>\n",
       "    </tr>\n",
       "  </tbody>\n",
       "</table>\n",
       "<p>366 rows × 1 columns</p>\n",
       "</div>"
      ],
      "text/plain": [
       "            Precipitation\n",
       "Date                     \n",
       "2016-08-23           68.9\n",
       "2016-08-24          236.9\n",
       "2016-08-25           13.6\n",
       "2016-08-26            2.6\n",
       "2016-08-27            8.1\n",
       "...                   ...\n",
       "2017-08-19            2.3\n",
       "2017-08-20            0.3\n",
       "2017-08-21           14.7\n",
       "2017-08-22           12.7\n",
       "2017-08-23           13.4\n",
       "\n",
       "[366 rows x 1 columns]"
      ]
     },
     "execution_count": 24,
     "metadata": {},
     "output_type": "execute_result"
    }
   ],
   "source": [
    "group_df = pd.DataFrame(group)\n",
    "group_df"
   ]
  },
  {
   "cell_type": "code",
   "execution_count": 25,
   "metadata": {},
   "outputs": [],
   "source": [
    "x_axis = list(group_df.index.values)"
   ]
  },
  {
   "cell_type": "code",
   "execution_count": 26,
   "metadata": {},
   "outputs": [],
   "source": [
    "y_axis = group_df[\"Precipitation\"]"
   ]
  },
  {
   "cell_type": "code",
   "execution_count": 27,
   "metadata": {},
   "outputs": [],
   "source": [
    "import datetime "
   ]
  },
  {
   "cell_type": "code",
   "execution_count": 28,
   "metadata": {},
   "outputs": [
    {
     "data": {
      "text/plain": [
       "<function matplotlib.pyplot.show(*args, **kw)>"
      ]
     },
     "execution_count": 28,
     "metadata": {},
     "output_type": "execute_result"
    },
    {
     "data": {
      "image/png": "[encoded data removed]",
      "text/plain": [
       "<Figure size 432x288 with 1 Axes>"
      ]
     },
     "metadata": {},
     "output_type": "display_data"
    }
   ],
   "source": [
    "# Use Pandas Plotting with Matplotlib to plot the data\n",
    "prev_year =dt.date(2017, 8, 23) - dt.timedelta(days=365)\n",
    "results2 = session.query(Measurement.date,Measurement.prcp).filter(Measurement.date >= prev_year).all()\n",
    "df2=pd.DataFrame(results2,columns=['date','precipitation'])\n",
    "df2=df2.sort_values(\"date\")\n",
    "df2.plot(x='date',y='precipitation',rot=90)\n",
    "plt.xlabel(\"Date\")\n",
    "plt.ylabel(\"Precipitation\")\n",
    "plt.title(\"Precipitation by Date\")\n",
    "# plt.gcf\n",
    "# plt.savefig(\"../Images/Precipitation.png\")\n",
    "plt.show"
   ]
  },
  {
   "cell_type": "code",
   "execution_count": 29,
   "metadata": {},
   "outputs": [
    {
     "data": {
      "text/html": [
       "<div>\n",
       "<style scoped>\n",
       "    .dataframe tbody tr th:only-of-type {\n",
       "        vertical-align: middle;\n",
       "    }\n",
       "\n",
       "    .dataframe tbody tr th {\n",
       "        vertical-align: top;\n",
       "    }\n",
       "\n",
       "    .dataframe thead th {\n",
       "        text-align: right;\n",
       "    }\n",
       "</style>\n",
       "<table border=\"1\" class=\"dataframe\">\n",
       "  <thead>\n",
       "    <tr style=\"text-align: right;\">\n",
       "      <th></th>\n",
       "      <th>Precipitation</th>\n",
       "    </tr>\n",
       "  </thead>\n",
       "  <tbody>\n",
       "    <tr>\n",
       "      <th>count</th>\n",
       "      <td>366.000000</td>\n",
       "    </tr>\n",
       "    <tr>\n",
       "      <th>mean</th>\n",
       "      <td>24.880874</td>\n",
       "    </tr>\n",
       "    <tr>\n",
       "      <th>std</th>\n",
       "      <td>45.110917</td>\n",
       "    </tr>\n",
       "    <tr>\n",
       "      <th>min</th>\n",
       "      <td>0.000000</td>\n",
       "    </tr>\n",
       "    <tr>\n",
       "      <th>25%</th>\n",
       "      <td>1.425000</td>\n",
       "    </tr>\n",
       "    <tr>\n",
       "      <th>50%</th>\n",
       "      <td>10.250000</td>\n",
       "    </tr>\n",
       "    <tr>\n",
       "      <th>75%</th>\n",
       "      <td>27.650000</td>\n",
       "    </tr>\n",
       "    <tr>\n",
       "      <th>max</th>\n",
       "      <td>362.700000</td>\n",
       "    </tr>\n",
       "  </tbody>\n",
       "</table>\n",
       "</div>"
      ],
      "text/plain": [
       "       Precipitation\n",
       "count     366.000000\n",
       "mean       24.880874\n",
       "std        45.110917\n",
       "min         0.000000\n",
       "25%         1.425000\n",
       "50%        10.250000\n",
       "75%        27.650000\n",
       "max       362.700000"
      ]
     },
     "execution_count": 29,
     "metadata": {},
     "output_type": "execute_result"
    }
   ],
   "source": [
    "# Use Pandas to calcualte the summary statistics for the precipitation data\n",
    "group_df.describe()"
   ]
  },
  {
   "attachments": {},
   "cell_type": "markdown",
   "metadata": {},
   "source": [
    "The following 6 blocks of code are an alternate way to do summary statistics"
   ]
  },
  {
   "cell_type": "code",
   "execution_count": 30,
   "metadata": {},
   "outputs": [],
   "source": [
    "import scipy.stats as st"
   ]
  },
  {
   "cell_type": "code",
   "execution_count": 31,
   "metadata": {},
   "outputs": [
    {
     "name": "stdout",
     "output_type": "stream",
     "text": [
      "The mean precipitation 12 months back from 2017-08-23 is 24.880874316939888\n",
      "The median precipitation 12 months back from 2017-08-23 is 10.25\n",
      "The mode precipitation 12 months back from 2017-08-23 is ModeResult(mode=array([0.]), count=array([48]))\n"
     ]
    }
   ],
   "source": [
    "# Demonstrate calculating measures of central tendency\n",
    "mean_numpy = np.mean(group_df[\"Precipitation\"])\n",
    "print(f\"The mean precipitation 12 months back from 2017-08-23 is {mean_numpy}\")\n",
    "\n",
    "median_numpy = np.median(group_df[\"Precipitation\"])\n",
    "print(f\"The median precipitation 12 months back from 2017-08-23 is {median_numpy}\")\n",
    "\n",
    "mode_scipy = st.mode(group_df[\"Precipitation\"])\n",
    "print(f\"The mode precipitation 12 months back from 2017-08-23 is {mode_scipy}\")\n"
   ]
  },
  {
   "cell_type": "code",
   "execution_count": 32,
   "metadata": {},
   "outputs": [
    {
     "data": {
      "image/png": "[encoded data removed]",
      "text/plain": [
       "<Figure size 432x288 with 1 Axes>"
      ]
     },
     "metadata": {},
     "output_type": "display_data"
    },
    {
     "name": "stdout",
     "output_type": "stream",
     "text": [
      "NormaltestResult(statistic=330.29406929631125, pvalue=1.894759746061345e-72)\n"
     ]
    }
   ],
   "source": [
    "# Characterize the data set using matplotlib and stats.normaltest\n",
    "plt.hist(group_df[\"Precipitation\"])\n",
    "plt.title(\"Precipitation by Date\")\n",
    "plt.xlabel(\"Precipitation\")\n",
    "plt.ylabel(\"Frequency of Precipitation in mm\")\n",
    "plt.show()\n",
    "print(st.normaltest(group_df[\"Precipitation\"].sample(365)))"
   ]
  },
  {
   "cell_type": "code",
   "execution_count": 33,
   "metadata": {},
   "outputs": [
    {
     "name": "stdout",
     "output_type": "stream",
     "text": [
      "The population variance using the NumPy module is 2029.4347708202695\n",
      "The population standard deviation using the NumPy module is 45.04924828252153\n"
     ]
    }
   ],
   "source": [
    "# Demonstrate calculating the variance and standard deviation using the different modules\n",
    "var_numpy = np.var(group_df[\"Precipitation\"],ddof = 0)\n",
    "print(f\"The population variance using the NumPy module is {var_numpy}\")\n",
    "\n",
    "sd_numpy = np.std(group_df[\"Precipitation\"],ddof = 0)\n",
    "print(f\"The population standard deviation using the NumPy module is {sd_numpy}\")"
   ]
  },
  {
   "cell_type": "code",
   "execution_count": 34,
   "metadata": {},
   "outputs": [
    {
     "name": "stdout",
     "output_type": "stream",
     "text": [
      "Roughly 68% of the data is between -20.168 and 69.93\n",
      "Roughly 95% of the data is between -65.218 and 114.979\n",
      "Roughly 99.7% of the data is between -110.267 and 160.029\n"
     ]
    }
   ],
   "source": [
    "# Calculate the 68-95-99.7 rule using the standard deviation\n",
    "print(f\"Roughly 68% of the data is between {round(mean_numpy-sd_numpy,3)} and {round(mean_numpy+sd_numpy,3)}\")\n",
    "print(f\"Roughly 95% of the data is between {round(mean_numpy-2*sd_numpy,3)} and {round(mean_numpy+2*sd_numpy,3)}\")\n",
    "print(f\"Roughly 99.7% of the data is between {round(mean_numpy-3*sd_numpy,3)} and {round(mean_numpy+3*sd_numpy,3)}\")"
   ]
  },
  {
   "cell_type": "code",
   "execution_count": 35,
   "metadata": {},
   "outputs": [
    {
     "name": "stdout",
     "output_type": "stream",
     "text": [
      "The z-scores using the SciPy module are [ 9.77133412e-01  4.70638543e+00 -2.50412043e-01 -4.94589259e-01\n",
      " -3.72500651e-01  1.19911270e+00  2.71239280e-01 -5.12347602e-01\n",
      "  1.24128876e+00 -5.34545530e-01 -4.10237130e-01  1.62469430e-01\n",
      "  2.29063216e-01 -3.59181894e-01  1.42491294e-01  5.75350903e-01\n",
      " -2.90368315e-01  5.36995794e-02  2.40162180e-01  1.51370466e-01\n",
      "  3.15635138e-01  9.74913619e-01  7.49888486e+00  2.24463514e+00\n",
      " -8.83671641e-02 -1.70499500e-01 -2.52631836e-01 -3.68061065e-01\n",
      "  2.92818578e-02  1.06974608e-01  2.57920523e-01  3.33393481e-01\n",
      " -3.92478787e-01 -5.01248637e-01  3.86668509e-01  2.13524666e-01\n",
      " -4.79050709e-01  1.13251891e+00  9.80954367e-02  2.66799695e-01\n",
      " -1.46081779e-01 -1.61620329e-01  1.41665240e+00 -8.83671641e-02\n",
      " -4.61292366e-01 -5.45644495e-01 -5.30105945e-01 -5.52303873e-01\n",
      " -5.52303873e-01 -1.63840122e-01 -5.05688223e-01 -5.07908016e-01\n",
      " -5.52303873e-01 -3.32544379e-01 -5.52303873e-01 -2.39313079e-01\n",
      " -2.12675565e-01 -4.56852780e-01  1.81828935e-02 -3.70280858e-01\n",
      "  4.44383124e-01 -3.92478787e-01 -1.06125507e-01  6.92381294e-02\n",
      " -3.88039201e-01  4.97658153e-01 -2.30433908e-01 -1.90477636e-01\n",
      "  3.44492445e-01  3.57811202e-01 -4.32435059e-01 -5.30105945e-01\n",
      " -5.41204909e-01 -5.19006980e-01 -2.97027694e-01 -5.05688223e-01\n",
      " -4.50193401e-01  8.03370938e-02 -3.28104794e-01 -5.45644495e-01\n",
      " -5.52303873e-01 -5.52303873e-01 -5.52303873e-01 -4.67951744e-01\n",
      " -5.23446566e-01  3.17854931e-01 -5.16787187e-01 -5.34545530e-01\n",
      " -3.36983965e-01 -1.51139995e-02  1.18579394e+00  2.27349245e+00\n",
      " -1.70499500e-01  2.82338245e-01  1.93546530e-01 -2.63730801e-01\n",
      " -2.41532872e-01 -1.46081779e-01 -3.10346451e-01  4.92599936e-02\n",
      "  4.46602917e-01  7.81791640e-01  9.74913619e-01 -1.01685921e-01\n",
      "  1.27236586e+00 -5.30105945e-01 -3.39203758e-01 -2.88148522e-01\n",
      "  4.90998774e-01 -4.79050709e-01 -4.12456923e-01 -5.21226773e-01\n",
      " -1.19444264e-01  2.95657002e-01 -4.03577751e-01 -5.27886152e-01\n",
      " -3.52522515e-01 -4.84108925e-02 -3.14786037e-01 -5.34545530e-01\n",
      " -4.39713068e-02  8.41726047e-01  1.42491294e-01  3.62250788e-01\n",
      " -3.08126658e-01  5.97548832e-01 -4.14676716e-01 -3.19225622e-01\n",
      "  7.90670811e-01  1.33673986e+00  6.55263446e-01 -3.52522515e-01\n",
      " -5.38985116e-01 -5.52303873e-01 -4.50193401e-01 -1.73337924e-02\n",
      " -1.01685921e-01 -5.19006980e-01 -5.16787187e-01 -5.52303873e-01\n",
      " -5.52303873e-01 -5.52303873e-01 -5.52303873e-01 -5.52303873e-01\n",
      " -5.45644495e-01 -5.45644495e-01 -5.52303873e-01 -5.52303873e-01\n",
      " -5.12347602e-01 -5.41204909e-01 -5.52303873e-01 -3.94698580e-01\n",
      "  2.48422721e-02 -2.17733781e-02  7.15197854e-01  1.46770764e+00\n",
      " -4.90149673e-01 -5.16787187e-01 -4.72391330e-01  7.08392915e-03\n",
      " -5.23446566e-01 -5.52303873e-01 -5.52303873e-01 -5.52303873e-01\n",
      " -5.52303873e-01 -5.52303873e-01 -5.52303873e-01 -3.36983965e-01\n",
      "  3.62090672e+00  5.59193722e-02 -5.41204909e-01 -5.52303873e-01\n",
      "  5.76078704e+00  5.35678474e+00  1.09700223e+00 -5.45644495e-01\n",
      " -5.05688223e-01  6.97439511e-01  3.81610293e-02 -5.45644495e-01\n",
      " -4.45753816e-01 -5.52303873e-01 -4.79050709e-01 -4.17515139e-02\n",
      " -5.45644495e-01 -5.52303873e-01 -4.67951744e-01 -5.52303873e-01\n",
      " -5.52303873e-01 -9.05869570e-02  5.99830488e+00  3.14587104e+00\n",
      "  7.06318682e-01 -5.52303873e-01  1.29172537e-01 -2.45972458e-01\n",
      " -5.52303873e-01 -5.52303873e-01  5.53152974e-01 -3.88039201e-01\n",
      " -5.27886152e-01 -5.52303873e-01 -5.52303873e-01 -5.19006980e-01\n",
      " -5.19006980e-01 -5.52303873e-01 -1.48301572e-01 -5.52303873e-01\n",
      " -5.52303873e-01 -5.41204909e-01 -5.01248637e-01 -5.52303873e-01\n",
      " -5.23446566e-01  8.25568866e-02  5.57592560e-01 -5.52303873e-01\n",
      " -5.45644495e-01 -1.50521364e-01 -4.43534023e-01 -4.67951744e-01\n",
      " -5.45644495e-01 -3.21445415e-01 -5.52303873e-01 -1.81598465e-01\n",
      " -4.67951744e-01 -1.81598465e-01 -5.19006980e-01 -5.52303873e-01\n",
      " -5.52303873e-01 -5.52303873e-01 -5.38985116e-01 -2.83708936e-01\n",
      "  5.81391651e-02  6.25787508e-02  3.23466276e+00  4.31064367e-01\n",
      "  4.92599936e-02  1.17691477e+00  1.34117944e+00 -4.39094437e-01\n",
      " -1.10565093e-01  4.17141535e+00  2.24463514e+00 -2.92588108e-01\n",
      " -5.16787187e-01 -5.52303873e-01 -3.30324587e-01 -3.17005829e-01\n",
      "  1.83841304e+00  3.98051316e+00  3.06595850e+00 -9.28067499e-02\n",
      " -5.21226773e-01 -5.32325738e-01 -5.07908016e-01 -3.39203758e-01\n",
      " -5.19006980e-01 -4.83490294e-01  1.14361788e+00  2.05595275e+00\n",
      " -6.61692355e-02 -2.12675565e-01 -4.63512159e-01 -4.19116301e-01\n",
      "  1.35831915e-01 -5.72900640e-02 -3.12566244e-01 -4.67951744e-01\n",
      " -7.06088212e-02 -5.27886152e-01 -5.34545530e-01 -5.45644495e-01\n",
      " -3.50302722e-01 -1.52741157e-01  1.63863169e+00  7.01879097e-01\n",
      " -5.41204909e-01 -2.63730801e-01 -3.21445415e-01 -3.14786037e-01\n",
      "  4.22185195e-01 -3.43643344e-01 -5.27886152e-01 -3.61401687e-01\n",
      " -2.08235979e-01  9.58756438e-02 -5.05688223e-01 -5.52303873e-01\n",
      " -5.45644495e-01 -5.34545530e-01 -5.30105945e-01  3.08975759e-01\n",
      "  6.61922825e-01  4.35503952e-01  2.24623630e-01  3.33393481e-01\n",
      "  9.74913619e-01 -4.41314230e-01 -2.48192251e-01  2.51261145e-01\n",
      " -1.39422400e-01 -2.41532872e-01 -2.65950593e-01 -3.05906865e-01\n",
      " -1.74939086e-01 -1.92697429e-01 -2.14895358e-01 -4.96809052e-01\n",
      " -4.90149673e-01 -5.34545530e-01 -5.12347602e-01 -2.59291215e-01\n",
      " -4.08017337e-01 -1.46081779e-01 -1.34982814e-01 -4.67951744e-01\n",
      " -5.52303873e-01 -5.41204909e-01 -2.70390179e-01 -4.96809052e-01\n",
      " -4.39094437e-01 -5.30105945e-01 -5.34545530e-01 -3.48082930e-01\n",
      "  4.68800845e-01 -1.51139995e-02 -4.43534023e-01 -9.72463356e-02\n",
      " -3.95317211e-02  8.77242733e-01 -3.19225622e-01  1.46930880e-01\n",
      " -4.79050709e-01  1.94052352e+00  8.47766795e-02  1.29012421e+00\n",
      " -2.08235979e-01 -2.72609972e-01 -5.45644495e-01 -1.15004679e-01\n",
      " -2.10455772e-01 -3.83599615e-01 -5.52303873e-01 -4.74611123e-01\n",
      " -3.81379823e-01 -5.12347602e-01 -5.19006980e-01 -5.19006980e-01\n",
      " -5.52303873e-01 -5.23446566e-01 -3.05906865e-01 -4.67951744e-01\n",
      " -5.12347602e-01 -5.52303873e-01 -4.72391330e-01 -5.52303873e-01\n",
      " -3.76940237e-01 -9.05869570e-02 -2.08235979e-01 -4.43534023e-01\n",
      " -5.19006980e-01 -5.01248637e-01 -5.45644495e-01 -2.25994322e-01\n",
      " -2.70390179e-01 -2.54851629e-01]\n"
     ]
    }
   ],
   "source": [
    "# Demonstrate calculating the z-scores using SciPy\n",
    "z_scipy = st.zscore(group_df[\"Precipitation\"])\n",
    "print(f\"The z-scores using the SciPy module are {z_scipy}\")"
   ]
  },
  {
   "cell_type": "code",
   "execution_count": 36,
   "metadata": {},
   "outputs": [],
   "source": [
    "# Close the session\n",
    "# session.close()"
   ]
  },
  {
   "cell_type": "markdown",
   "metadata": {},
   "source": [
    "# Exploratory Station Analysis"
   ]
  },
  {
   "cell_type": "code",
   "execution_count": 37,
   "metadata": {},
   "outputs": [
    {
     "name": "stdout",
     "output_type": "stream",
     "text": [
      "id INTEGER\n",
      "station TEXT\n",
      "name TEXT\n",
      "latitude FLOAT\n",
      "longitude FLOAT\n",
      "elevation FLOAT\n"
     ]
    }
   ],
   "source": [
    "columns = inspector.get_columns('station')\n",
    "for c in columns:\n",
    "    print(c['name'], c[\"type\"])"
   ]
  },
  {
   "cell_type": "code",
   "execution_count": 38,
   "metadata": {},
   "outputs": [
    {
     "data": {
      "text/plain": [
       "[(9,)]"
      ]
     },
     "execution_count": 38,
     "metadata": {},
     "output_type": "execute_result"
    }
   ],
   "source": [
    "# Design a query to calculate the total number stations in the dataset\n",
    "session.query(func.count(Station.station)).all()\n"
   ]
  },
  {
   "cell_type": "code",
   "execution_count": 39,
   "metadata": {},
   "outputs": [
    {
     "name": "stdout",
     "output_type": "stream",
     "text": [
      "\n",
      " ('USC00519281', 2772)\n",
      "\n",
      " ('USC00519397', 2724)\n",
      "\n",
      " ('USC00513117', 2709)\n",
      "\n",
      " ('USC00519523', 2669)\n",
      "\n",
      " ('USC00516128', 2612)\n",
      "\n",
      " ('USC00514830', 2202)\n",
      "\n",
      " ('USC00511918', 1979)\n",
      "\n",
      " ('USC00517948', 1372)\n",
      "\n",
      " ('USC00518838', 511)\n"
     ]
    }
   ],
   "source": [
    "# Design a query to find the most active stations (i.e. what stations have the most rows?)\n",
    "# List the stations and the counts in descending order.\n",
    "session.query = sqlalchemy.select([Measurement.station,\n",
    "                                   sqlalchemy.func.count(Measurement.station)]).order_by(sqlalchemy.func.count(Measurement.station).desc()).group_by(Measurement.station)\n",
    "  \n",
    "result1 = engine.execute(session.query).fetchall()\n",
    "  \n",
    "for record in result1:\n",
    "    print(\"\\n\", record)"
   ]
  },
  {
   "cell_type": "code",
   "execution_count": 40,
   "metadata": {},
   "outputs": [],
   "source": [
    "from sqlalchemy.orm import sessionmaker"
   ]
  },
  {
   "cell_type": "code",
   "execution_count": 41,
   "metadata": {},
   "outputs": [],
   "source": [
    "Session = sessionmaker(bind=engine)\n",
    "session = Session()"
   ]
  },
  {
   "cell_type": "code",
   "execution_count": 42,
   "metadata": {},
   "outputs": [
    {
     "name": "stdout",
     "output_type": "stream",
     "text": [
      "The max, min and average temperature [(29.4, 12.2, 22.03582251082252)]\n"
     ]
    }
   ],
   "source": [
    "# Using the most active station id from the previous query, calculate the lowest, highest, and average temperature.\n",
    "\n",
    "result2 = session.query(func.max(Measurement.tobs),func.min(Measurement.tobs),func.avg(Measurement.tobs)) \\\n",
    "        .filter(Measurement.station == 'USC00519281').all()\n",
    "\n",
    "\n",
    "print(f\"The max, min and average temperature {result2}\")"
   ]
  },
  {
   "cell_type": "code",
   "execution_count": 43,
   "metadata": {},
   "outputs": [
    {
     "name": "stdout",
     "output_type": "stream",
     "text": [
      "2772\n"
     ]
    }
   ],
   "source": [
    "# How many rows in the dataset\n",
    "results3 = session.query(Measurement.date,Measurement.tobs).filter(Measurement.station == 'USC00519281').count()\n",
    "print(results3)"
   ]
  },
  {
   "cell_type": "code",
   "execution_count": 44,
   "metadata": {},
   "outputs": [
    {
     "name": "stdout",
     "output_type": "stream",
     "text": [
      "('2017-08-18', 26.1)\n"
     ]
    }
   ],
   "source": [
    "# Find the last date and temperature\n",
    "results4 = session.query(Measurement.date,Measurement.tobs).filter(Measurement.station == 'USC00519281').order_by(Measurement.date.desc()).first()\n",
    "print(results4)"
   ]
  },
  {
   "cell_type": "code",
   "execution_count": 45,
   "metadata": {},
   "outputs": [
    {
     "data": {
      "text/html": [
       "<div>\n",
       "<style scoped>\n",
       "    .dataframe tbody tr th:only-of-type {\n",
       "        vertical-align: middle;\n",
       "    }\n",
       "\n",
       "    .dataframe tbody tr th {\n",
       "        vertical-align: top;\n",
       "    }\n",
       "\n",
       "    .dataframe thead th {\n",
       "        text-align: right;\n",
       "    }\n",
       "</style>\n",
       "<table border=\"1\" class=\"dataframe\">\n",
       "  <thead>\n",
       "    <tr style=\"text-align: right;\">\n",
       "      <th></th>\n",
       "      <th>Date</th>\n",
       "      <th>Temperature</th>\n",
       "    </tr>\n",
       "  </thead>\n",
       "  <tbody>\n",
       "    <tr>\n",
       "      <th>0</th>\n",
       "      <td>2016-08-18</td>\n",
       "      <td>26.7</td>\n",
       "    </tr>\n",
       "    <tr>\n",
       "      <th>1</th>\n",
       "      <td>2016-08-19</td>\n",
       "      <td>26.1</td>\n",
       "    </tr>\n",
       "    <tr>\n",
       "      <th>2</th>\n",
       "      <td>2016-08-20</td>\n",
       "      <td>27.2</td>\n",
       "    </tr>\n",
       "    <tr>\n",
       "      <th>3</th>\n",
       "      <td>2016-08-21</td>\n",
       "      <td>26.1</td>\n",
       "    </tr>\n",
       "    <tr>\n",
       "      <th>4</th>\n",
       "      <td>2016-08-22</td>\n",
       "      <td>25.6</td>\n",
       "    </tr>\n",
       "    <tr>\n",
       "      <th>...</th>\n",
       "      <td>...</td>\n",
       "      <td>...</td>\n",
       "    </tr>\n",
       "    <tr>\n",
       "      <th>352</th>\n",
       "      <td>2017-08-14</td>\n",
       "      <td>25.0</td>\n",
       "    </tr>\n",
       "    <tr>\n",
       "      <th>353</th>\n",
       "      <td>2017-08-15</td>\n",
       "      <td>25.0</td>\n",
       "    </tr>\n",
       "    <tr>\n",
       "      <th>354</th>\n",
       "      <td>2017-08-16</td>\n",
       "      <td>24.4</td>\n",
       "    </tr>\n",
       "    <tr>\n",
       "      <th>355</th>\n",
       "      <td>2017-08-17</td>\n",
       "      <td>24.4</td>\n",
       "    </tr>\n",
       "    <tr>\n",
       "      <th>356</th>\n",
       "      <td>2017-08-18</td>\n",
       "      <td>26.1</td>\n",
       "    </tr>\n",
       "  </tbody>\n",
       "</table>\n",
       "<p>357 rows × 2 columns</p>\n",
       "</div>"
      ],
      "text/plain": [
       "           Date  Temperature\n",
       "0    2016-08-18         26.7\n",
       "1    2016-08-19         26.1\n",
       "2    2016-08-20         27.2\n",
       "3    2016-08-21         26.1\n",
       "4    2016-08-22         25.6\n",
       "..          ...          ...\n",
       "352  2017-08-14         25.0\n",
       "353  2017-08-15         25.0\n",
       "354  2017-08-16         24.4\n",
       "355  2017-08-17         24.4\n",
       "356  2017-08-18         26.1\n",
       "\n",
       "[357 rows x 2 columns]"
      ]
     },
     "execution_count": 45,
     "metadata": {},
     "output_type": "execute_result"
    }
   ],
   "source": [
    "# Using the most active station id and extracting the last 12 months of temperature data\n",
    "query_date_12_months = dt.date(2016, 8, 17) \n",
    "results5 = session.query(Measurement.date,Measurement.tobs).\\\n",
    "    filter(Measurement.station == 'USC00519281').\\\n",
    "        order_by(Measurement.date.asc()).\\\n",
    "            filter(func.strftime(Measurement.date) > query_date_12_months).all()\n",
    "            \n",
    "temp_rows_df = pd.DataFrame({\"Date\": result[0], \"Temperature\": result[1]} for result in results5)\n",
    "temp_rows_df"
   ]
  },
  {
   "cell_type": "code",
   "execution_count": 46,
   "metadata": {},
   "outputs": [
    {
     "data": {
      "text/plain": [
       "<function matplotlib.pyplot.show(*args, **kw)>"
      ]
     },
     "execution_count": 46,
     "metadata": {},
     "output_type": "execute_result"
    },
    {
     "data": {
      "image/png": "[encoded data removed]",
      "text/plain": [
       "<Figure size 432x288 with 1 Axes>"
      ]
     },
     "metadata": {},
     "output_type": "display_data"
    }
   ],
   "source": [
    "# Create a histogram of frequency of temperature in the dataset\n",
    "temp_rows_df.plot.hist(x='Date',y='Temperature',bins=12, rot=90, color='b', alpha=0.5)\n",
    "plt.xlabel(\"Temperature\")\n",
    "plt.ylabel(\"Frequency\")\n",
    "plt.title(\"Temperature\")\n",
    "plt.show"
   ]
  },
  {
   "cell_type": "markdown",
   "metadata": {},
   "source": [
    "# Close session"
   ]
  },
  {
   "cell_type": "code",
   "execution_count": 47,
   "metadata": {},
   "outputs": [],
   "source": [
    "# Close Session\n",
    "session.close()"
   ]
  },
  {
   "cell_type": "code",
   "execution_count": null,
   "metadata": {},
   "outputs": [],
   "source": []
  }
 ],
 "metadata": {
  "anaconda-cloud": {},
  "kernel_info": {
   "name": "python3"
  },
  "kernelspec": {
   "display_name": "PythonData",
   "language": "python",
   "name": "python3"
  },
  "language_info": {
   "codemirror_mode": {
    "name": "ipython",
    "version": 3
   },
   "file_extension": ".py",
   "mimetype": "text/x-python",
   "name": "python",
   "nbconvert_exporter": "python",
   "pygments_lexer": "ipython3",
   "version": "3.7.7"
  },
  "nteract": {
   "version": "0.12.3"
  },
  "varInspector": {
   "cols": {
    "lenName": 16,
    "lenType": 16,
    "lenVar": 40
   },
   "kernels_config": {
    "python": {
     "delete_cmd_postfix": "",
     "delete_cmd_prefix": "del ",
     "library": "var_list.py",
     "varRefreshCmd": "print(var_dic_list())"
    },
    "r": {
     "delete_cmd_postfix": ") ",
     "delete_cmd_prefix": "rm(",
     "library": "var_list.r",
     "varRefreshCmd": "cat(var_dic_list()) "
    }
   },
   "types_to_exclude": [
    "module",
    "function",
    "builtin_function_or_method",
    "instance",
    "_Feature"
   ],
   "window_display": false
  },
  "vscode": {
   "interpreter": {
    "hash": "7db2a412b11edafb391183ba42ce38835c9a015e2a8dbcaea088651dc9739e2d"
   }
  }
 },
 "nbformat": 4,
 "nbformat_minor": 2
}
